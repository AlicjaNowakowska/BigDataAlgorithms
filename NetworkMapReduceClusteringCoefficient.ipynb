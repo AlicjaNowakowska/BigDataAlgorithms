{
 "cells": [
  {
   "cell_type": "markdown",
   "metadata": {},
   "source": [
    "# Map Reduce II - Clustering Coefficient\n",
    "\n",
    "# 4.\n",
    "\n",
    "Now suppose that the web graph is undirected. This means, that we convert each directed edge to an undirected one. There are no multiple edges, i.e. if both (u,v) \\in E and (v,u) \\in E, then we assume, that there is only one edge {u,v}.  Solve Problem 37 from the problem set by Dr. M. Gębala assuming that the graph is undirected. For each vertex v \\in V you need to determine the clustering coefficient c(v) of v.  It is defined as the ratio of the actual number of edges between the neighbors of v in G to the number of all possible edges between the neighbors of v (there are at most deg(v) (deg(v) - 1)/2 of them). Design and implement the procedures for mapper and reducer. Also write the procedure for determining the average clustering coefficient for the graph. Try to make your implementation as efficient as possible.\n",
    "\n",
    "# 5.\n",
    "Write a short paragraph in which you summarize the general idea of algorithms used in 5. Try to estimate how many times each edge / each vertex is processed.\n"
   ]
  },
  {
   "cell_type": "markdown",
   "metadata": {},
   "source": [
    "## The idea \n",
    "The clustering coefficient for a node can be defined as a following: \n",
    "$$ C_i = \\frac{\\text{number of triangles (triplets) with a vertex} }{ \\text{total possible number of triples} }$$\n",
    "\n",
    "If $k_i$ is a node's degree the total possible number of triplets is equal to $\\frac{k_i(k_i-1)}{2}$. Therfore, we can write:\n",
    "\n",
    "$$ C_i = \\frac{2 \\cdot \\text{number of triangles (triplets) with a vertex} }{k_i(k_i-1)}$$.\n",
    "\n",
    "Now let's observe that the adjacency matrix with 0s and 1s in rows and columns can represent our graph. Such matrix multiplication to the $n$ power gives us the number of possible paths that begin at i (row i of the matrix = node i) and end at j ( j column of the matrix - node j). If we consider the diagonal of an adjacency matrix $A^3$ we will get the desired number of triplets. Therfore to calculate the clustering coefficient it is enough to calculate the thirs power of an adjacency matrix of a graph and divide its diagonal values by an appropriate product of the node degree value. \n",
    "\n",
    "### Matrix preparation by Map Reduce\n",
    "\n",
    "Firstly, we need a matrix representation of the graph - that is simple: matrix will be represented in a coordinate sparse format only (row = node 1 from an edge list,column = node 2 from an edge list,value = 1) will be considered. \n",
    "\n",
    "First map: (node1, node2) -> (node1, node2,1)\n",
    "\n",
    "### Matrix Multiplication by Map Reduce\n",
    "Let's define the multiplication of A and B as follows:\n",
    "\n",
    "First map for A: (i,j , $a_{ij}$) -> (j, (\"A, i , $a{ij}$) )\n",
    "\n",
    "First map for B: (j,k, $b_{jk}$) ->  (j, (\"B\", k, $b_{jk}$ )\n",
    "\n",
    "First reducer we group by the jth column our data so that we obtain records of the kind \n",
    "\n",
    "(j, (\"A\",x,y), (\"A,z,w), ..., (\"B\", t,m), (\"B\",k,h))\n",
    "\n",
    "Second map : we need to emit the (i,k, value pairs) - all combintations from elemnts multiplication.\n",
    "\n",
    "For each pair (\"A\", i, sth1), (\"B\", k, sth2) in a j record we emit ( (i,k), sth1 $\\cdot$ sth2). \n",
    "\n",
    "The only thing left is the summation of the values by the key to obtain ((i,k), value).\n",
    "\n",
    "Our power 3 of an adjaceny matrix is computed as multiply( multiply(A,A), A) then the elements from the diagonal are extracted and saved as the doubled number of triangles coming out from a node.\n",
    "\n",
    "### Degree computation by Map Reduce\n",
    "The total degree for each node is computed as follows from the list (node1, node2, 1) generated after creating an undirected network (for each edge from the directed list emit (node1, node2, 1) and (node2, node1,1) ).\n",
    "\n",
    "Degree:\n",
    "\n",
    "Map for each pair (node1, node2, 1) emit (node1, 0.5) (node2, 0.5) to obtain the occurence counts of each node. Then we reduce by key by summing the counts. \n",
    "\n",
    "### Final value\n",
    "\n",
    "We join the tables for the degree and for the number of triangles and then divide for each pair the number of triangles by the degree. Such approach will generate a sparse table, if some node has a 0 clustering coefficient it won't be present in our table.\n",
    "\n",
    "### Average clustering\n",
    "The average clustering is calclated by summing all the clustering coefficient values and dividing them by the number of nodes. "
   ]
  },
  {
   "cell_type": "markdown",
   "metadata": {},
   "source": [
    "# Implementation"
   ]
  },
  {
   "cell_type": "code",
   "execution_count": 1,
   "metadata": {},
   "outputs": [],
   "source": [
    "####### to nie zadziała!!\n",
    "import pyspark\n",
    "from pyspark.sql import SparkSession\n",
    "\n",
    "spark = SparkSession \\\n",
    "    .builder \\\n",
    "    .appName(\"Python Spark SQL basic example\") \\\n",
    "    .config(\"spark.network.timeout\", \"7500s\") \\\n",
    "    .config(\"spark.executor.heartbeatInterval\",\"7200s\")\\\n",
    "    .config(\"spark.storage.blockManagerSlaveTimeoutMs\", \"7500s\")\\\n",
    "    .getOrCreate()"
   ]
  },
  {
   "cell_type": "code",
   "execution_count": 1,
   "metadata": {},
   "outputs": [],
   "source": [
    "# !!!!!!!!!!!!!!!!!!!!!!!!!!!!!!!! trzeba tą sesję zaktualizowac tak by timeout był większy i ten heartbeat interval\n",
    "#.set(\"spark.storage.blockManagerSlaveTimeoutMs\", \"7500s\")\\\n",
    "#OLD SESION ---------------\n",
    "import pyspark\n",
    "from pyspark import SparkContext, SparkConf\n",
    "from pyspark.sql import SparkSession\n",
    "conf = pyspark.SparkConf().setAppName('appName').setMaster('local').set(\"spark.network.timeout\", \"7500s\")\\\n",
    "        .set(\"spark.executor.heartbeatInterval\",\"7200s\").set(\"spark.storage.blockManagerSlaveTimeoutMs\", \"72000s\")\\\n",
    "        .set(\"spark.worker.timeout\", \"72000s\").set(\"spark.ui.showConsoleProgress\", \"true\")\n",
    "#conf.set(\"spark.network.timeout\", \"600s\")\n",
    "#conf.set(\"spark.executor.heartbeatInterval\",\"3600s\")\n",
    "sc = pyspark.SparkContext('local[4]',conf=conf)\n",
    "spark = SparkSession(sc)#.getOrCreate()"
   ]
  },
  {
   "cell_type": "code",
   "execution_count": 2,
   "metadata": {},
   "outputs": [
    {
     "name": "stdout",
     "output_type": "stream",
     "text": [
      "('spark.master', 'local[4]')\n",
      "('spark.app.name', 'appName')\n",
      "('spark.executor.heartbeatInterval', '7200s')\n",
      "('spark.executor.id', 'driver')\n",
      "('spark.driver.host', 'LAPTOP-AR3KTOMI')\n",
      "('spark.storage.blockManagerSlaveTimeoutMs', '72000s')\n",
      "('spark.worker.timeout', '72000s')\n",
      "('spark.rdd.compress', 'True')\n",
      "('spark.network.timeout', '7500s')\n",
      "('spark.serializer.objectStreamReset', '100')\n",
      "('spark.driver.port', '56441')\n",
      "('spark.app.id', 'local-1607593482499')\n",
      "('spark.submit.pyFiles', '')\n",
      "('spark.submit.deployMode', 'client')\n",
      "('spark.ui.showConsoleProgress', 'true')\n"
     ]
    }
   ],
   "source": [
    "configurations = spark.sparkContext.getConf().getAll()\n",
    "for conf in configurations:\n",
    "    print(conf)"
   ]
  },
  {
   "cell_type": "code",
   "execution_count": 14,
   "metadata": {},
   "outputs": [
    {
     "data": {
      "text/plain": [
       "[Row(Node1='1', Node2='2'),\n",
       " Row(Node1='1', Node2='3'),\n",
       " Row(Node1='2', Node2='3'),\n",
       " Row(Node1='1', Node2='8'),\n",
       " Row(Node1='8', Node2='9'),\n",
       " Row(Node1='2', Node2='8'),\n",
       " Row(Node1='2', Node2='9'),\n",
       " Row(Node1='3', Node2='4'),\n",
       " Row(Node1='4', Node2='5'),\n",
       " Row(Node1='5', Node2='6'),\n",
       " Row(Node1='4', Node2='6'),\n",
       " Row(Node1='4', Node2='7'),\n",
       " Row(Node1='7', Node2='10')]"
      ]
     },
     "execution_count": 14,
     "metadata": {},
     "output_type": "execute_result"
    }
   ],
   "source": [
    "from pyspark.sql.functions import split\n",
    "df = spark.read.csv(\"test3.txt\",sep='\\n')\n",
    "df = df.filter(~df._c0.contains('#')) #removing the first 5 rows\n",
    "#df.show(10)\n",
    "\n",
    "split_col = pyspark.sql.functions.split(df['_c0'], ' ')\n",
    "df = df.withColumn('Node1', split_col.getItem(0))\n",
    "df = df.withColumn('Node2', split_col.getItem(1))\n",
    "df = df.drop(\"_c0\")\n",
    "\n",
    "rdd = df.rdd\n",
    "rdd.take(20)"
   ]
  },
  {
   "cell_type": "code",
   "execution_count": 3,
   "metadata": {},
   "outputs": [],
   "source": [
    "def emition(x):\n",
    "    return (int(x[1]),int(x[0]),1), (int(x[0]),int(x[1]),1) # 1 added for making easily a matrix\n",
    "    #return ((int(x[1]),int(x[0])),1) , ((int(x[0]),int(x[1]) ),1) \n",
    "            \n",
    "#undirected = rdd.flatMap(emition).distinct()"
   ]
  },
  {
   "cell_type": "code",
   "execution_count": 5,
   "metadata": {},
   "outputs": [
    {
     "data": {
      "text/plain": [
       "[(2, 1, 1),\n",
       " (1, 2, 1),\n",
       " (3, 1, 1),\n",
       " (1, 3, 1),\n",
       " (3, 2, 1),\n",
       " (2, 3, 1),\n",
       " (8, 1, 1),\n",
       " (1, 8, 1),\n",
       " (9, 8, 1),\n",
       " (8, 9, 1)]"
      ]
     },
     "execution_count": 5,
     "metadata": {},
     "output_type": "execute_result"
    }
   ],
   "source": [
    "undirected = rdd.flatMap(emition).distinct()\n",
    "undirected.take(10)"
   ]
  },
  {
   "cell_type": "code",
   "execution_count": 4,
   "metadata": {},
   "outputs": [],
   "source": [
    "def emition_A(x): #A_ij\n",
    "    node1 = x[0] # position i=node1, j=node2 in a mtrix, k index from a new matrix\n",
    "    node2 = x[1]\n",
    "    value = x[2]\n",
    "    return (node2,(\"A\",node1,value))\n",
    "\n",
    "def emition_B(x): #B_jk\n",
    "    node1 = x[0] # position j=node1, k=node2 in a mtrix, k index from a new matrix\n",
    "    node2 = x[1]\n",
    "    value = x[2]\n",
    "    return (node1,(\"B\",node2,value))"
   ]
  },
  {
   "cell_type": "code",
   "execution_count": 5,
   "metadata": {},
   "outputs": [],
   "source": [
    "from itertools import combinations\n",
    "import itertools\n",
    "#nie ma wierzchołka zerowego wszystko liczymy od 1, a python liczy od zera...\n",
    "# czyli (i,k) values musza byc od 1 tez\n",
    "\n",
    "def multiplication(x): #(j , A... B...)\n",
    "    lista = x[1]\n",
    "    A_values_at_j = [i for i in lista if i[0]==\"A\"]\n",
    "    B_values_at_j = [i for i in lista if i[0]==\"B\"]\n",
    "    \n",
    "    #unzip = list(zip(*lista)) # (A...) (B...)\n",
    "    #A_values_at_j = unzip[0]\n",
    "    #B_values_at_j = unzip[1]\n",
    "    #format : A: (A, node1 =i, value), (A, node2,value)...., B: (B, node2 =k, value)\n",
    "    # i = A_values_at_j[i-1][1]\n",
    "    # k = B_values_at_j[k-1][1]\n",
    "    i_k_pairs = [ ( (A_values_at_j[i-1][1], B_values_at_j[k-1][1] ), #key i k\n",
    "                   A_values_at_j[i-1][-1]*B_values_at_j[k-1][-1])  #value\n",
    "                 for i, k in itertools.product(range(1,len(A_values_at_j)+1), range(1,len(B_values_at_j)+1))] \n",
    "    \n",
    "    return i_k_pairs"
   ]
  },
  {
   "cell_type": "code",
   "execution_count": 6,
   "metadata": {},
   "outputs": [],
   "source": [
    "def matrix_multiplication(A_rdd, B_rdd):\n",
    "    #Mapping\n",
    "    A  = A_rdd.map(emition_A)\n",
    "    B = B_rdd.map(emition_B)\n",
    "    #joined = A.join(B) bylo join zmieniam na union\n",
    "    joined = A.union(B)\n",
    "    \n",
    "    # Reducing by key\n",
    "    to_return = joined.groupByKey().map(lambda x: (x[0], list(x[1])))\n",
    "    \n",
    "    # Mapping to create (i,k, value) tuples\n",
    "    to_return = to_return.flatMap(multiplication)\n",
    "   \n",
    "    #Reducing and summing  - aggregating the (i,k) values ((i,k), v1), ((i,k),v2)-> ((i,k), v1+v2)\n",
    "    to_return = to_return.reduceByKey(lambda x, y: x + y)\n",
    "    \n",
    "    return to_return"
   ]
  },
  {
   "cell_type": "code",
   "execution_count": 7,
   "metadata": {},
   "outputs": [],
   "source": [
    "def doubled_number_of_triangles(rdd):\n",
    "    square = matrix_multiplication(rdd,rdd)\n",
    "    square.take(5)\n",
    "    print(\"SQUARED\")\n",
    "    square = square.map(lambda x: (x[0][0], x[0][1], x[1]) )\n",
    "    cube = matrix_multiplication(square, rdd)\n",
    "    cube.take(5)\n",
    "    print(\"TRIPLED\")\n",
    "    cube = cube.filter(lambda x: x[0][0] == x[0][1]) #take only diagonal elements of a multiplied matrix\n",
    "    return cube"
   ]
  },
  {
   "cell_type": "code",
   "execution_count": 8,
   "metadata": {},
   "outputs": [],
   "source": [
    "def degree_emition(x): # for each edge emit count for both members of an edge\n",
    "    return ((x[0],x[0]),0.5), ((x[1],x[1]),0.5)\n",
    "    \n",
    "def calculate_degree(rdd): # assumed undirected netwrok with each edge occuring twice for bot nodes\n",
    "    counts = rdd.flatMap(degree_emition)\n",
    "    counts = counts.reduceByKey(lambda x, y: x + y)\n",
    "    return counts"
   ]
  },
  {
   "cell_type": "code",
   "execution_count": 9,
   "metadata": {},
   "outputs": [],
   "source": [
    "def final_division(x):\n",
    "    node = x[0][0]\n",
    "    measures = x[1]\n",
    "    triangles = measures[0] # doubled number is needed in the formula\n",
    "    degree = measures[1]\n",
    "    return (node, triangles/(degree*(degree-1)))"
   ]
  },
  {
   "cell_type": "code",
   "execution_count": 11,
   "metadata": {},
   "outputs": [],
   "source": [
    "degree = calculate_degree(undirected)\n",
    "triangles = doubled_number_of_triangles(undirected)\n",
    "\n",
    "clustering = triangles.join(degree) # joining to divide\n",
    "clustering = clustering.map(final_division)"
   ]
  },
  {
   "cell_type": "code",
   "execution_count": 12,
   "metadata": {},
   "outputs": [],
   "source": [
    "def average_clustering(rdd_clustering, degree):\n",
    "    number_of_nodes = degree.count()\n",
    "    avg_sum = rdd_clustering.map(lambda x: (\"mean\", x[1])).reduceByKey(lambda x,y: x+y)\n",
    "    avg = avg_sum.map(lambda x: (\"mean\", x[1]/number_of_nodes) )\n",
    "    return avg"
   ]
  },
  {
   "cell_type": "markdown",
   "metadata": {},
   "source": [
    "### Proof of correctness - comparison of the results for a simple example with networkx"
   ]
  },
  {
   "cell_type": "code",
   "execution_count": 44,
   "metadata": {},
   "outputs": [
    {
     "data": {
      "image/png": "[encoded data removed]",
      "text/plain": [
       "<Figure size 432x288 with 1 Axes>"
      ]
     },
     "metadata": {},
     "output_type": "display_data"
    }
   ],
   "source": [
    "nx.draw(G, with_labels = True, node_color = \"lightgreen\")"
   ]
  },
  {
   "cell_type": "code",
   "execution_count": 30,
   "metadata": {},
   "outputs": [
    {
     "data": {
      "text/plain": [
       "[(1, 0.6666666666666666),\n",
       " (5, 1.0),\n",
       " (9, 1.0),\n",
       " (3, 0.3333333333333333),\n",
       " (6, 1.0),\n",
       " (2, 0.5),\n",
       " (8, 0.6666666666666666),\n",
       " (4, 0.16666666666666666)]"
      ]
     },
     "execution_count": 30,
     "metadata": {},
     "output_type": "execute_result"
    }
   ],
   "source": [
    "# Results from the MapReduce\n",
    "clustering.take(30)"
   ]
  },
  {
   "cell_type": "code",
   "execution_count": 31,
   "metadata": {},
   "outputs": [
    {
     "data": {
      "text/plain": [
       "[('mean', 0.5333333333333333)]"
      ]
     },
     "execution_count": 31,
     "metadata": {},
     "output_type": "execute_result"
    }
   ],
   "source": [
    "average_clustering(clustering,degree).take(1)"
   ]
  },
  {
   "cell_type": "code",
   "execution_count": 35,
   "metadata": {},
   "outputs": [
    {
     "name": "stdout",
     "output_type": "stream",
     "text": [
      "{'1': 0.6666666666666666, '2': 0.5, '3': 0.3333333333333333, '8': 0.6666666666666666, '9': 1.0, '4': 0.16666666666666666, '5': 1.0, '6': 1.0, '7': 0, '10': 0}\n",
      "0.5333333333333333\n"
     ]
    }
   ],
   "source": [
    "#Networkx \n",
    "import networkx as nx\n",
    "G = nx.read_edgelist(\"test3.txt\")\n",
    "c = nx.clustering(G)\n",
    "print( c )\n",
    "print(sum([c[i] for i in c])/len([c[i] for i in c]) )"
   ]
  },
  {
   "cell_type": "markdown",
   "metadata": {},
   "source": [
    "# Web graph "
   ]
  },
  {
   "cell_type": "code",
   "execution_count": 15,
   "metadata": {},
   "outputs": [],
   "source": [
    "df = spark.read.csv(\"web-Stanford.txt.gz\",sep='\\n')\n",
    "df = df.filter(~df._c0.contains('#')) #removing the first 5 rows\n",
    "#df.show(10)\n",
    "\n",
    "split_col = pyspark.sql.functions.split(df['_c0'], '\\t')\n",
    "df = df.withColumn('Node1', split_col.getItem(0))\n",
    "df = df.withColumn('Node2', split_col.getItem(1))\n",
    "df = df.drop(\"_c0\")\n",
    "\n",
    "#rdd = df.rdd\n",
    "#rdd.take(10)"
   ]
  },
  {
   "cell_type": "markdown",
   "metadata": {},
   "source": [
    "# Limit the data set - computational problems\n",
    "Memory error, socket timeout, ..."
   ]
  },
  {
   "cell_type": "code",
   "execution_count": 21,
   "metadata": {},
   "outputs": [],
   "source": [
    "#divide graph in a half - memory and run times\n",
    "df_head = df.limit(25000)\n",
    "rdd = df_head.rdd"
   ]
  },
  {
   "cell_type": "code",
   "execution_count": 22,
   "metadata": {},
   "outputs": [
    {
     "data": {
      "text/plain": [
       "[Row(Node1='1', Node2='6548'),\n",
       " Row(Node1='1', Node2='15409'),\n",
       " Row(Node1='6548', Node2='57031'),\n",
       " Row(Node1='15409', Node2='13102'),\n",
       " Row(Node1='2', Node2='17794'),\n",
       " Row(Node1='2', Node2='25202'),\n",
       " Row(Node1='2', Node2='53625'),\n",
       " Row(Node1='2', Node2='54582'),\n",
       " Row(Node1='2', Node2='64930'),\n",
       " Row(Node1='2', Node2='73764')]"
      ]
     },
     "execution_count": 22,
     "metadata": {},
     "output_type": "execute_result"
    }
   ],
   "source": [
    "rdd.take(10)"
   ]
  },
  {
   "cell_type": "code",
   "execution_count": 23,
   "metadata": {},
   "outputs": [
    {
     "data": {
      "text/plain": [
       "[(6548, 1, 1), (1, 6548, 1), (15409, 1, 1), (1, 15409, 1), (57031, 6548, 1)]"
      ]
     },
     "execution_count": 23,
     "metadata": {},
     "output_type": "execute_result"
    }
   ],
   "source": [
    "# Emitting the (node1, node2, 1) and (node2, node1, 1)\n",
    "undirected = rdd.flatMap(emition).distinct() # removing the duplicates\n",
    "undirected.take(5)"
   ]
  },
  {
   "cell_type": "code",
   "execution_count": 24,
   "metadata": {},
   "outputs": [
    {
     "data": {
      "text/plain": [
       "[((6548, 6548), 2.0),\n",
       " ((1, 1), 2.0),\n",
       " ((15409, 15409), 2.0),\n",
       " ((57031, 57031), 1.0),\n",
       " ((13102, 13102), 1.0)]"
      ]
     },
     "execution_count": 24,
     "metadata": {},
     "output_type": "execute_result"
    }
   ],
   "source": [
    "degree = calculate_degree(undirected)\n",
    "degree.take(5)"
   ]
  },
  {
   "cell_type": "code",
   "execution_count": 26,
   "metadata": {},
   "outputs": [
    {
     "name": "stdout",
     "output_type": "stream",
     "text": [
      "SQUARED\n",
      "TRIPLED\n"
     ]
    }
   ],
   "source": [
    "triangles = doubled_number_of_triangles(undirected)"
   ]
  },
  {
   "cell_type": "code",
   "execution_count": 27,
   "metadata": {},
   "outputs": [
    {
     "data": {
      "text/plain": [
       "[((153900, 153900), 8),\n",
       " ((173905, 173905), 2),\n",
       " ((65179, 65179), 22),\n",
       " ((90591, 90591), 36),\n",
       " ((264982, 264982), 96)]"
      ]
     },
     "execution_count": 27,
     "metadata": {},
     "output_type": "execute_result"
    }
   ],
   "source": [
    "triangles.take(5)"
   ]
  },
  {
   "cell_type": "code",
   "execution_count": 28,
   "metadata": {},
   "outputs": [],
   "source": [
    "clustering = triangles.join(degree) # joining to divide"
   ]
  },
  {
   "cell_type": "code",
   "execution_count": 29,
   "metadata": {},
   "outputs": [],
   "source": [
    "clustering = clustering.map(final_division)"
   ]
  },
  {
   "cell_type": "code",
   "execution_count": 30,
   "metadata": {},
   "outputs": [
    {
     "data": {
      "text/plain": [
       "[(173905, 1.0),\n",
       " (65179, 0.5238095238095238),\n",
       " (90591, 0.023076923076923078),\n",
       " (253245, 0.08097165991902834),\n",
       " (253689, 0.47953216374269003),\n",
       " (222873, 0.375),\n",
       " (22789, 0.11904761904761904),\n",
       " (246741, 0.9166666666666666),\n",
       " (273803, 0.9960474308300395),\n",
       " (274869, 0.9960474308300395),\n",
       " (169971, 0.2),\n",
       " (85191, 0.23809523809523808),\n",
       " (86507, 1.0),\n",
       " (203033, 0.28888888888888886),\n",
       " (206531, 0.05555555555555555),\n",
       " (7819, 0.6666666666666666),\n",
       " (12717, 0.6666666666666666),\n",
       " (15557, 0.6666666666666666),\n",
       " (59755, 0.05555555555555555),\n",
       " (62745, 0.6666666666666666)]"
      ]
     },
     "execution_count": 30,
     "metadata": {},
     "output_type": "execute_result"
    }
   ],
   "source": [
    "clustering.take(20)"
   ]
  },
  {
   "cell_type": "code",
   "execution_count": 31,
   "metadata": {},
   "outputs": [
    {
     "data": {
      "text/plain": [
       "[('mean', 0.18461202845423508)]"
      ]
     },
     "execution_count": 31,
     "metadata": {},
     "output_type": "execute_result"
    }
   ],
   "source": [
    "average_clustering(clustering,degree).take(1)"
   ]
  },
  {
   "cell_type": "markdown",
   "metadata": {},
   "source": [
    "### Due to the problems regarding my computational resources I decided to limit the data set to first 35000 records - limit of my laptop (error : za mało miejsca na dysku). \n",
    "\n",
    "# Complexity of the algorithm\n",
    "after preparing the data the algorithm for clustering itself seems to take:\n",
    "Matrix multiplication:\n",
    "* emition A,B each node 2k where k is degree, each edge 2\n",
    "* when we reduce to the elements of the matrix it is hard to furtherly track dependence of the matrix multiplication on the number of times the edges and nodes are transformed. However, becuase the matrices are implemented in a sparse way, the complexity of the whole algorthim of $A^3$ is not O($N^3$) instead it is O(number of nodes that have edges), therefore each edge seems to generate at least 3 next calculations without taking into account intermediate steps used for the data organization and prepartion. Finally when the matrix computation is completed we are only interested in the diagnoal elements so the operation is O( number of nodes that have edges) - each node processed one additional time.\n",
    "* degree calculation was already described in the previous task\n",
    "* divison - only node dependent one operation"
   ]
  },
  {
   "cell_type": "code",
   "execution_count": 13,
   "metadata": {},
   "outputs": [],
   "source": [
    "# Calculating the degree and number of triangles\n",
    "degree = calculate_degree(undirected)\n",
    "triangles = doubled_number_of_triangles(undirected)\n",
    "\n",
    "clustering = triangles.join(degree) # joining to divide\n",
    "clustering = clustering.map(final_division)"
   ]
  },
  {
   "cell_type": "code",
   "execution_count": null,
   "metadata": {},
   "outputs": [],
   "source": [
    "average_clustering(clustering,degree).take(1)"
   ]
  }
 ],
 "metadata": {
  "kernelspec": {
   "display_name": "Python 3",
   "language": "python",
   "name": "python3"
  },
  "language_info": {
   "codemirror_mode": {
    "name": "ipython",
    "version": 3
   },
   "file_extension": ".py",
   "mimetype": "text/x-python",
   "name": "python",
   "nbconvert_exporter": "python",
   "pygments_lexer": "ipython3",
   "version": "3.7.9"
  }
 },
 "nbformat": 4,
 "nbformat_minor": 4
}
