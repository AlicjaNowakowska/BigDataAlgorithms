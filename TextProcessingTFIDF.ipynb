{
 "cells": [
  {
   "cell_type": "markdown",
   "metadata": {},
   "source": [
    "# List 1. BIg Data Algoritms Laboratory\n",
    "\n",
    "### 1. Read about the TF-IDF coefficient (and understand the idea of this measure)\n",
    "\n",
    "TF-IDF (Term Frequency times Inverse Document Frequency) is a measure of how important a specific word is in a set of documents. \n",
    "<i>\"To downgrade the relative importance of words that occur all too frequently, an inverse weighting is introduced to scale down the words that occur too frequently. This inverse weighting is referred to as Inverse Document Frequency. Together, TF-IDF captures the relative importance of words in a set of documents or a collection of texts.\"</i>\n",
    "To calculate it the following must be defined:\n",
    "\n",
    "###### definition 1. \n",
    "$TF(i,j)=\\frac{f_{i,j}}{max_k{f_{k,j}}}$ where $f_{i,j}$ is the number of times the i-th element appears in the j-th document\n",
    "###### definition 2. \n",
    "$IDF(i)=log_2{N/n_i}$ where $N$ is the total number of documents in the set and $n_i$ is the number of documents from the set in which the word (=element i) appears\n",
    "##### defintion 3. TF.IDF for word i and document j\n",
    "$TF.IDF(i,j)=TF(i,j) \\times IDF(i) $"
   ]
  },
  {
   "cell_type": "markdown",
   "metadata": {},
   "source": [
    "### 2. Find sources of 10 different books  (plaintext files with UTF-8 encoding). You can use e.g. the Project Gutenberg website. The set of selected books should containat least 2 books  of the same author and at least 2 books of the same genre (e.g. fantasy, sci-fi, romance,...)\n",
    "My books: \n",
    "* Odyssey\n",
    "* Dracula\n",
    "* Alice's adventures in Wonderland (fantasy)\n",
    "* Frankenstein (fantasy)\n",
    "* Moby Dick\n",
    "* Pride and Prejudice\n",
    "* The happy prince and other tales (Oscar Wilde)\n",
    "* The masque of red death\n",
    "* The picture of Dorian Grey (Oscar Wilde)\n",
    "* The yellow wallpaper\n",
    "\n",
    "I eliminated Gutenberg's preambule and notes after the end of the original text so that I obtained only original text of the book. I merged scala and python to perform the tasks."
   ]
  },
  {
   "cell_type": "markdown",
   "metadata": {},
   "source": [
    "### 3. Read the books from the input files, divide each book into words and remove the stop-words (also remove the special characters like \".,:;{}() etc. and convert the text to lowercase). For each book calculate the total number of distinct words used by the author. "
   ]
  },
  {
   "cell_type": "code",
   "execution_count": 1,
   "metadata": {},
   "outputs": [
    {
     "data": {
      "text/plain": [
       "Intitializing Scala interpreter ..."
      ]
     },
     "metadata": {},
     "output_type": "display_data"
    },
    {
     "data": {
      "text/plain": [
       "Spark Web UI available at http://LAPTOP-AR3KTOMI:4045\n",
       "SparkContext available as 'sc' (version = 3.0.1, master = local[*], app id = local-1603895178731)\n",
       "SparkSession available as 'spark'\n"
      ]
     },
     "metadata": {},
     "output_type": "display_data"
    },
    {
     "data": {
      "text/plain": [
       "import scala.io.Source._\r\n",
       "stopwords: Array[String] = Array(able, about, above, abroad, according, accordingly, across, actually, adj, after, afterwards, again, against, ago, ahead, ain't, all, allow, allows, almost, alone, along, alongside, already, also, although, always, am, amid, amidst, among, amongst, an, and, another, any, anybody, anyhow, anyone, anything, anyway, anyways, anywhere, apart, appear, appreciate, appropriate, are, aren't, around, as, a's, aside, ask, asking, associated, at, available, away, awfully, back, backward, backwards, be, became, because, become, becomes, becoming, been, before, beforehand, begin, behind, being, believe, below, beside, besides, best, better, between, beyond, both, brief, but, by, came, can, cannot, cant, can't, caption, cause, causes, certain...\r\n"
      ]
     },
     "execution_count": 1,
     "metadata": {},
     "output_type": "execute_result"
    }
   ],
   "source": [
    "//as input a spark data frame - out calculation results\n",
    "import scala.io.Source._\n",
    "val stopwords = fromFile(\"stopwords.txt\").getLines.toArray // define stopwords - downloaded list\n",
    "val my_books=Array(\"moby_dick.txt\",\"alice's_adventures.txt\",\"dracula.txt\",\"frankenstein.txt\",\"pride_and_prejudice.txt\",\n",
    "                   \"the_happy_prince_and_other_tales.txt\",\"the_masque_of_red_death.txt\",\"the_oddyssey.txt\",\n",
    "                   \"the_picture_of_dorian_grey.txt\",\"the_yellow_wallpaper.txt\"\n",
    "                  )"
   ]
  },
  {
   "cell_type": "code",
   "execution_count": 2,
   "metadata": {},
   "outputs": [
    {
     "data": {
      "text/plain": [
       "perform_calculation: (textFile: org.apache.spark.sql.Dataset[String])Unit\r\n"
      ]
     },
     "execution_count": 2,
     "metadata": {},
     "output_type": "execute_result"
    }
   ],
   "source": [
    "def perform_calculation( textFile:org.apache.spark.sql.Dataset[String] ){ \n",
    "    // Everything to lowercase letter, then split to words - \"\\\\W+\" (deletes colons, semicolons etc.) \n",
    "    //and filter stop words (word not in the stopwords list)\n",
    "    //val my_new = textFile.flatMap{_.toLowerCase.split(\"\\\\W+\").filter(word => !stopwords.contains(word) && word!=\"\")}\n",
    "    val my_new = textFile.flatMap{_.toLowerCase.split(\"\\\\W+\")}\n",
    "                         .flatMap{_.split(\"\\\\_\").filter(word => !stopwords.contains(word) && word!=\"\")}\n",
    "    //val my_new=\n",
    "    //create list of distinct words\n",
    "    val distinct = my_new.distinct.collect.toList\n",
    "    //print number of different words\n",
    "    print(distinct.length)\n",
    "   }"
   ]
  },
  {
   "cell_type": "code",
   "execution_count": 3,
   "metadata": {},
   "outputs": [
    {
     "name": "stdout",
     "output_type": "stream",
     "text": [
      "book name: moby_dick.txt number of distnict words: 16510\n",
      "book name: alice's_adventures.txt number of distnict words: 2146\n",
      "book name: dracula.txt number of distnict words: 8717\n",
      "book name: frankenstein.txt number of distnict words: 6498\n",
      "book name: pride_and_prejudice.txt number of distnict words: 5772\n",
      "book name: the_happy_prince_and_other_tales.txt number of distnict words: 1787\n",
      "book name: the_masque_of_red_death.txt number of distnict words: 646\n",
      "book name: the_oddyssey.txt number of distnict words: 7023\n",
      "book name: the_picture_of_dorian_grey.txt number of distnict words: 5023\n",
      "book name: the_yellow_wallpaper.txt number of distnict words: 914\n"
     ]
    }
   ],
   "source": [
    "for (i <- 0 to my_books.length-1){\n",
    "    val textFile = spark.read.textFile(my_books(i)) //current text file\n",
    "    print(\"book name: \"+my_books(i)+\" number of distnict words: \")\n",
    "    perform_calculation(textFile)\n",
    "    println()\n",
    "}"
   ]
  },
  {
   "cell_type": "markdown",
   "metadata": {},
   "source": [
    "Moby Dick has the higehst number, the books of the same author don't have the similar values of distinct words."
   ]
  },
  {
   "cell_type": "markdown",
   "metadata": {},
   "source": [
    "### 4. For all words in all books calculate the TF-IDF coefficient. For each book identify 20 words with highest TF-IDF coefficient. Write the results to a text file (together with the #of distinct words calculated in 4.)."
   ]
  },
  {
   "cell_type": "markdown",
   "metadata": {},
   "source": [
    "Prepare tuples (word, number of appearences)"
   ]
  },
  {
   "cell_type": "code",
   "execution_count": 4,
   "metadata": {},
   "outputs": [
    {
     "data": {
      "text/plain": [
       "import java.nio.file._\r\n"
      ]
     },
     "execution_count": 4,
     "metadata": {},
     "output_type": "execute_result"
    }
   ],
   "source": [
    "import java.nio.file._ // biblioteka do zpaisania plików"
   ]
  },
  {
   "cell_type": "code",
   "execution_count": 7,
   "metadata": {},
   "outputs": [
    {
     "data": {
      "text/plain": [
       "prepare_counts: (book_name: String)Array[(String, Int)]\r\n"
      ]
     },
     "execution_count": 7,
     "metadata": {},
     "output_type": "execute_result"
    }
   ],
   "source": [
    "def prepare_counts(book_name: String): Array[(String, Int)]={ \n",
    "\n",
    "    // prepare current book - remove stopwords, split etc.\n",
    "    val textFile = spark.read.textFile(book_name)\n",
    "    //val before_counts = textFile.flatMap{_.toLowerCase.split(\"\\\\W+\").filter(word => !stopwords.contains(word)&& word!=\"\")}\n",
    "    val before_counts = textFile.flatMap{_.toLowerCase.split(\"\\\\W+\")}\n",
    "                                .flatMap{_.split(\"\\\\_\").filter(word => !stopwords.contains(word)&& word!=\"\")}\n",
    "    val transformed_counts = sc.parallelize(before_counts.collect())\n",
    "    // count appearence of each word - f(i,j)\n",
    "    val counts = transformed_counts.map(word => (word, 1)).reduceByKey( (x,y) => x+y).sortBy(_._2,false)\n",
    "    val new_counts = counts.collect\n",
    "    new_counts\n",
    "}"
   ]
  },
  {
   "cell_type": "code",
   "execution_count": 8,
   "metadata": {},
   "outputs": [
    {
     "data": {
      "text/plain": [
       "my_books: Array[String] = Array(moby_dick, alice's_adventures, dracula, frankenstein, pride_and_prejudice, the_happy_prince_and_other_tales, the_masque_of_red_death, the_oddyssey, the_picture_of_dorian_grey, the_yellow_wallpaper)\r\n"
      ]
     },
     "execution_count": 8,
     "metadata": {},
     "output_type": "execute_result"
    }
   ],
   "source": [
    "val my_books=Array(\"moby_dick\",\"alice's_adventures\",\"dracula\",\"frankenstein\",\"pride_and_prejudice\",\n",
    "                   \"the_happy_prince_and_other_tales\",\"the_masque_of_red_death\",\"the_oddyssey\",\n",
    "                   \"the_picture_of_dorian_grey\",\"the_yellow_wallpaper\"\n",
    "                  )\n",
    "\n",
    "for (i <- 0 to my_books.length-1){\n",
    "    val book_name = my_books(i)\n",
    "     //save the counts for each book to the txt file book_counts.txt\n",
    "    val counts = prepare_counts(book_name+\".txt\")\n",
    "    counts.foreach(d => Files.write(Paths.get(book_name+\"_counts.txt\"), (d._1 + \" \" + d._2 + \"\\n\").getBytes, \n",
    "                                      StandardOpenOption.CREATE, StandardOpenOption.APPEND))\n",
    "}"
   ]
  },
  {
   "cell_type": "markdown",
   "metadata": {},
   "source": [
    "^^^ Above used scala below Python\n",
    "\n",
    "#### For each book the python dictionary that represents it is created. Format: word, how many times appeared, tf_idf\n",
    "First read counts to the dics"
   ]
  },
  {
   "cell_type": "code",
   "execution_count": 1,
   "metadata": {},
   "outputs": [],
   "source": [
    "import pandas as pd\n",
    "import os\n",
    "counts_files = [i for i in os.listdir('.') if \"counts\" in i]"
   ]
  },
  {
   "cell_type": "code",
   "execution_count": 2,
   "metadata": {},
   "outputs": [
    {
     "data": {
      "text/plain": [
       "[\"alice's_adventures_counts.txt\",\n",
       " 'dracula_counts.txt',\n",
       " 'frankenstein_counts.txt',\n",
       " 'moby_dick_counts.txt',\n",
       " 'pride_and_prejudice_counts.txt',\n",
       " 'the_happy_prince_and_other_tales_counts.txt',\n",
       " 'the_masque_of_red_death_counts.txt',\n",
       " 'the_oddyssey_counts.txt',\n",
       " 'the_picture_of_dorian_grey_counts.txt',\n",
       " 'the_yellow_wallpaper_counts.txt']"
      ]
     },
     "execution_count": 2,
     "metadata": {},
     "output_type": "execute_result"
    }
   ],
   "source": [
    "counts_files"
   ]
  },
  {
   "cell_type": "code",
   "execution_count": 3,
   "metadata": {},
   "outputs": [],
   "source": [
    "books_counts_dictionaries=[]\n",
    "for i in counts_files:\n",
    "    d = {}\n",
    "    with open(i) as f:\n",
    "        for line in f:\n",
    "            (key, val) = line.split()\n",
    "            d[key] = [int(val)]\n",
    "    books_counts_dictionaries.append(d)"
   ]
  },
  {
   "cell_type": "markdown",
   "metadata": {},
   "source": [
    "Second add TF.IDF calculation results to the dics"
   ]
  },
  {
   "cell_type": "code",
   "execution_count": 4,
   "metadata": {},
   "outputs": [],
   "source": [
    "import math\n",
    "N=10 # number of books\n",
    "book_nr=0\n",
    "for book_counts in books_counts_dictionaries:\n",
    "    \n",
    "    for word in book_counts: # dictionary for the book: word - count\n",
    "    # for each word in the list of distnict not stop words for the specific book\n",
    "    \n",
    "        #TF.ID calculation\n",
    "        max_appearence = max([i[word][0] for i in books_counts_dictionaries if word in i.keys()])\n",
    "        TF = book_counts[word][0]/max_appearence # how many time appears in the book divided by max appearence\n",
    "        n_i = sum([1 if word in book.keys() else 0 for book in books_counts_dictionaries])\n",
    "        IDF = math.log(N/n_i,2)\n",
    "\n",
    "        book_counts[word].append(TF*IDF)\n",
    "    \n",
    "    # sort the ready \n",
    "    #sorted_counts_by_tfidf={k: v for k, v in sorted(book_counts.items(), key=lambda item: item[1][1]),reverse=True}\n",
    "    #sorting and saving the dic\n",
    "    #book_counts = sorted(book_counts.items(), key=lambda x: x[1][1], reverse=True)\n",
    "    #f = open(counts_files[book_nr]+\"_tfidf.txt\",\"w\")\n",
    "    #f.write(str(book_counts))\n",
    "    #f.close()\n",
    "    \n",
    "    #book_nr+=1"
   ]
  },
  {
   "cell_type": "markdown",
   "metadata": {},
   "source": [
    "Exemplary parts of the dictionaries for the first and third book"
   ]
  },
  {
   "cell_type": "code",
   "execution_count": 5,
   "metadata": {},
   "outputs": [
    {
     "name": "stdout",
     "output_type": "stream",
     "text": [
      "Dict for Alice in Wonderland (first book): \n",
      "\n",
      "[('alice', [399, 3.3219280948873626]), ('queen', [76, 0.7369655941662062]), ('thought', [74, 0.0]), ('time', [71, 0.0]), ('king', [63, 0.23583104625469567]), ('don', [61, 0.10281473187502148]), ('turtle', [60, 2.321928094887362]), ('began', [58, 0.07801928690099914]), ('ll', [57, 0.3652785988475979]), ('mock', [57, 0.7369655941662062]), ('hatter', [56, 3.3219280948873626]), ('gryphon', [55, 3.3219280948873626]), ('rabbit', [53, 2.321928094887362]), ('head', [50, 0.0]), ('voice', [48, 0.0]), ('looked', [45, 0.0]), ('mouse', [44, 1.7369655941662063]), ('ve', [44, 0.7369655941662062]), ('duchess', [42, 1.7369655941662063]), ('tone', [40, 0.5145731728297582]), ('dormouse', [40, 3.3219280948873626]), ('great', [39, 0.0]), ('cat', [37, 1.7369655941662063]), ('march', [34, 0.7369655941662062]), ('large', [33, 0.06349496308464117]), ('long', [33, 0.0]), ('moment', [31, 0.0]), ('hare', [31, 1.7369655941662063]), ('white', [30, 0.0]), ('heard', [30, 0.041455389121377285]), ('door', [30, 0.022800464016757508]), ('replied', [29, 0.09063994904595639]), ('dear', [29, 0.019678971919225234]), ('eyes', [29, 0.0]), ('day', [29, 0.01976721843007377]), ('caterpillar', [29, 2.321928094887362]), ('poor', [27, 0.021264681466405966]), ('good', [27, 0.015969196587612262]), ('won', [26, 0.12350251342410318]), ('chapter', [24, 0.057425890454509576])]\n",
      "...\n",
      "\n",
      "Dict for Dracula (second book): \n",
      "\n",
      "[('time', [390, 0.0]), ('van', [323, 2.321928094887362]), ('helsing', [323, 3.3219280948873626]), ('night', [319, 0.0]), ('lucy', [301, 3.3219280948873626]), ('good', [257, 0.15200309344505006]), ('man', [256, 0.0]), ('mina', [244, 3.3219280948873626]), ('room', [231, 0.0]), ('dear', [224, 0.15200309344505006]), ('day', [223, 0.15200309344505006]), ('hand', [211, 0.0]), ('jonathan', [208, 2.321928094887362]), ('face', [206, 0.0]), ('door', [200, 0.15200309344505006]), ('count', [198, 1.3219280948873624]), ('poor', [193, 0.15200309344505006]), ('sleep', [192, 0.15200309344505006]), ('dr', [189, 1.3219280948873624]), ('eyes', [188, 0.0]), ('friend', [186, 0.15200309344505006]), ('looked', [186, 0.0]), ('great', [183, 0.0]), ('god', [177, 0.32192809488736235]), ('harker', [175, 3.3219280948873626]), ('professor', [174, 1.0]), ('thought', [154, 0.0]), ('men', [150, 0.0680610866171866]), ('long', [148, 0.0]), ('life', [148, 0.0]), ('arthur', [147, 2.321928094887362]), ('work', [146, 0.15200309344505006]), ('asked', [143, 0.15200309344505006]), ('told', [141, 0.0]), ('heart', [141, 0.0]), ('seward', [139, 3.3219280948873626]), ('fear', [137, 0.5145731728297582]), ('place', [137, 0.15200309344505006]), ('house', [135, 0.04968624119874518]), ('knew', [130, 0.15200309344505006])]\n",
      "...\n",
      "\n"
     ]
    }
   ],
   "source": [
    "print(\"Dict for Alice in Wonderland (first book): \\n\")\n",
    "print(list(books_counts_dictionaries[0].items())[0:40])\n",
    "print(\"...\\n\")\n",
    "print(\"Dict for Dracula (second book): \\n\")\n",
    "print(list(books_counts_dictionaries[1].items())[0:40])\n",
    "print(\"...\\n\")"
   ]
  },
  {
   "cell_type": "code",
   "execution_count": 6,
   "metadata": {},
   "outputs": [
    {
     "name": "stdout",
     "output_type": "stream",
     "text": [
      "Book name:  alice's_adventures_counts.txt\n",
      "20 words with the heighest TF.IDF: \n",
      "['alice', 'hatter', 'gryphon', 'dormouse', 'dinah', 'dodo', 'pigeon', 'croquet', 'timidly', 'knave', 'lobster', 'whiting', 'oop', 'treacle', 'lory', 'soo', 'puppy', 'lobsters', 'cheshire', 'wow']\n",
      "Book name:  dracula_counts.txt\n",
      "20 words with the heighest TF.IDF: \n",
      "['helsing', 'lucy', 'mina', 'harker', 'seward', 'godalming', 'quincey', 'renfield', 'westenra', 'whitby', 'dracula', 'hawkins', 'carfax', 'varna', 'garlic', 'holmwood', 'galatz', 'czarina', 'spiders', 'exeter']\n",
      "Book name:  frankenstein_counts.txt\n",
      "20 words with the heighest TF.IDF: \n",
      "['clerval', 'justine', 'felix', 'frankenstein', 'safie', 'creator', 'ingolstadt', 'hovel', 'kirwin', 'protectors', 'ernest', 'mont', 'occupations', 'contemplated', 'waldman', 'lacey', 'krempe', 'walton', 'agrippa', 'extinguish']\n",
      "Book name:  moby_dick_counts.txt\n",
      "20 words with the heighest TF.IDF: \n",
      "['ahab', 'whales', 'stubb', 'queequeg', 'starbuck', 'pequod', 'whaling', 'nantucket', 'leviathan', 'jonah', 'moby', 'dick', 'harpooneer', 'bildad', 'harpoon', 'pip', 'peleg', 'whalemen', 'fishery', 'tashtego']\n",
      "Book name:  pride_and_prejudice_counts.txt\n",
      "20 words with the heighest TF.IDF: \n",
      "['darcy', 'bennet', 'bingley', 'jane', 'wickham', 'collins', 'lydia', 'lizzy', 'longbourn', 'netherfield', 'kitty', 'lucas', 'colonel', 'meryton', 'pemberley', 'rosings', 'ladyship', 'hertfordshire', 'bourgh', 'forster']\n",
      "Book name:  the_happy_prince_and_other_tales_counts.txt\n",
      "20 words with the heighest TF.IDF: \n",
      "['linnet', 'graphic', 'quack', 'mayor', 'ditch', 'pyrotechnist', 'fireworks', 'primroses', 'cracker', 'squib', 'salary', 'blossomed', 'fizz', 'pyrotechnic', 'chamberlain', 'domesticity', 'whizz', 'garret', 'armchair', 'explode']\n",
      "Book name:  the_masque_of_red_death_counts.txt\n",
      "20 words with the heighest TF.IDF: \n",
      "['prospero', 'tinted', 'mummer', 'waltzers', 'chiming', 'assumptions', 'stiffened', 'buffoons', 'castellated', 'habiliments', 'piquancy', 'contagion', 'westwardly', 'glaringly', 'pores', 'depopulated', 'unimpeded', 'heroded', 'emanating', 'impeded']\n",
      "Book name:  the_oddyssey_counts.txt\n",
      "20 words with the heighest TF.IDF: \n",
      "['ulysses', 'telemachus', 'suitors', 'minerva', 'penelope', 'ithaca', 'eumaeus', 'troy', 'odyssey', 'alcinous', 'menelaus', 'neptune', 'achaeans', 'antinous', 'swineherd', 'phaeacians', 'laertes', 'pylos', 'circe', 'euryclea']\n",
      "Book name:  the_picture_of_dorian_grey_counts.txt\n",
      "20 words with the heighest TF.IDF: \n",
      "['gray', 'hallward', 'sibyl', 'alan', 'campbell', 'colored', 'studio', 'valet', 'ashton', 'juliet', 'francis', 'actress', 'colors', 'piano', 'romeo', 'cigarettes', 'boyish', 'hetty', 'masterpiece', 'misshapen']\n",
      "Book name:  the_yellow_wallpaper_counts.txt\n",
      "20 words with the heighest TF.IDF: \n",
      "['wallpaper', 'jennie', 'arbors', 'fungus', 'waddling', 'strangles', 'julia', 'radiation', 'grape', 'plantain', 'tonics', 'irritate', 'smooch', 'breadths', 'perkins', 'creepy', 'lolls', 'cultivates', 'renovate', 'chintz']\n"
     ]
    }
   ],
   "source": [
    "for i in range(len(books_counts_dictionaries)):\n",
    "    print(\"Book name: \",counts_files[i])\n",
    "    print(\"20 words with the heighest TF.IDF: \")\n",
    "    lala=sorted(books_counts_dictionaries[i].items(), key=lambda x: x[1][1], reverse=True)[0:20]\n",
    "    keys=[i[0] for i in lala]\n",
    "    print(keys)"
   ]
  },
  {
   "cell_type": "markdown",
   "metadata": {},
   "source": [
    "### 4. Write a function that takes as input a word w and returns the list of the most matching books. I.e., the output should be the list of books sorted according to the TF-IDF coefficient of w (in descending order). Show the results for several different input words."
   ]
  },
  {
   "cell_type": "code",
   "execution_count": 61,
   "metadata": {},
   "outputs": [],
   "source": [
    "def search_matches(books_names,books_dictionaries,word):\n",
    "    matching={}\n",
    "    for i in range(0,len(books_dictionaries)):\n",
    "        if word in books_dictionaries[i]:\n",
    "            matching[books_names[i]]=books_dictionaries[i][word][1]\n",
    "        else:\n",
    "            matching[books_names[i]]=0 # word not present\n",
    "    #books_dictionaries[i][word][1] - tf.idf of word in book i \n",
    "    #books_dictionaries[i][word][0] - count of word in book i          \n",
    "    \n",
    "    p=pd.DataFrame(matching.items())\n",
    "    p=p.rename(columns={0: \"book name\", 1: \"TF.IDF value\"})\n",
    "    p=p.sort_values(by=p.columns[1],ascending=False)\n",
    "    print(\"Book matching for \"+word+\":\")\n",
    "    display(p)\n",
    "    \n",
    "    return matching\n",
    "                                                 "
   ]
  },
  {
   "cell_type": "code",
   "execution_count": 62,
   "metadata": {},
   "outputs": [
    {
     "name": "stdout",
     "output_type": "stream",
     "text": [
      "Book matching for queen:\n"
     ]
    },
    {
     "data": {
      "text/html": [
       "<div>\n",
       "<style scoped>\n",
       "    .dataframe tbody tr th:only-of-type {\n",
       "        vertical-align: middle;\n",
       "    }\n",
       "\n",
       "    .dataframe tbody tr th {\n",
       "        vertical-align: top;\n",
       "    }\n",
       "\n",
       "    .dataframe thead th {\n",
       "        text-align: right;\n",
       "    }\n",
       "</style>\n",
       "<table border=\"1\" class=\"dataframe\">\n",
       "  <thead>\n",
       "    <tr style=\"text-align: right;\">\n",
       "      <th></th>\n",
       "      <th>book name</th>\n",
       "      <th>TF.IDF value</th>\n",
       "    </tr>\n",
       "  </thead>\n",
       "  <tbody>\n",
       "    <tr>\n",
       "      <th>0</th>\n",
       "      <td>alice's_adventures_counts.txt</td>\n",
       "      <td>0.736966</td>\n",
       "    </tr>\n",
       "    <tr>\n",
       "      <th>7</th>\n",
       "      <td>the_oddyssey_counts.txt</td>\n",
       "      <td>0.252120</td>\n",
       "    </tr>\n",
       "    <tr>\n",
       "      <th>3</th>\n",
       "      <td>moby_dick_counts.txt</td>\n",
       "      <td>0.184241</td>\n",
       "    </tr>\n",
       "    <tr>\n",
       "      <th>8</th>\n",
       "      <td>the_picture_of_dorian_grey_counts.txt</td>\n",
       "      <td>0.058181</td>\n",
       "    </tr>\n",
       "    <tr>\n",
       "      <th>2</th>\n",
       "      <td>frankenstein_counts.txt</td>\n",
       "      <td>0.009697</td>\n",
       "    </tr>\n",
       "    <tr>\n",
       "      <th>5</th>\n",
       "      <td>the_happy_prince_and_other_tales_counts.txt</td>\n",
       "      <td>0.009697</td>\n",
       "    </tr>\n",
       "    <tr>\n",
       "      <th>1</th>\n",
       "      <td>dracula_counts.txt</td>\n",
       "      <td>0.000000</td>\n",
       "    </tr>\n",
       "    <tr>\n",
       "      <th>4</th>\n",
       "      <td>pride_and_prejudice_counts.txt</td>\n",
       "      <td>0.000000</td>\n",
       "    </tr>\n",
       "    <tr>\n",
       "      <th>6</th>\n",
       "      <td>the_masque_of_red_death_counts.txt</td>\n",
       "      <td>0.000000</td>\n",
       "    </tr>\n",
       "    <tr>\n",
       "      <th>9</th>\n",
       "      <td>the_yellow_wallpaper_counts.txt</td>\n",
       "      <td>0.000000</td>\n",
       "    </tr>\n",
       "  </tbody>\n",
       "</table>\n",
       "</div>"
      ],
      "text/plain": [
       "                                     book name  TF.IDF value\n",
       "0                alice's_adventures_counts.txt      0.736966\n",
       "7                      the_oddyssey_counts.txt      0.252120\n",
       "3                         moby_dick_counts.txt      0.184241\n",
       "8        the_picture_of_dorian_grey_counts.txt      0.058181\n",
       "2                      frankenstein_counts.txt      0.009697\n",
       "5  the_happy_prince_and_other_tales_counts.txt      0.009697\n",
       "1                           dracula_counts.txt      0.000000\n",
       "4               pride_and_prejudice_counts.txt      0.000000\n",
       "6           the_masque_of_red_death_counts.txt      0.000000\n",
       "9              the_yellow_wallpaper_counts.txt      0.000000"
      ]
     },
     "metadata": {},
     "output_type": "display_data"
    }
   ],
   "source": [
    "matching=search_matches(counts_files,books_counts_dictionaries,\"queen\")"
   ]
  },
  {
   "cell_type": "code",
   "execution_count": 63,
   "metadata": {},
   "outputs": [
    {
     "name": "stdout",
     "output_type": "stream",
     "text": [
      "Book matching for row:\n"
     ]
    },
    {
     "data": {
      "text/html": [
       "<div>\n",
       "<style scoped>\n",
       "    .dataframe tbody tr th:only-of-type {\n",
       "        vertical-align: middle;\n",
       "    }\n",
       "\n",
       "    .dataframe tbody tr th {\n",
       "        vertical-align: top;\n",
       "    }\n",
       "\n",
       "    .dataframe thead th {\n",
       "        text-align: right;\n",
       "    }\n",
       "</style>\n",
       "<table border=\"1\" class=\"dataframe\">\n",
       "  <thead>\n",
       "    <tr style=\"text-align: right;\">\n",
       "      <th></th>\n",
       "      <th>book name</th>\n",
       "      <th>TF.IDF value</th>\n",
       "    </tr>\n",
       "  </thead>\n",
       "  <tbody>\n",
       "    <tr>\n",
       "      <th>3</th>\n",
       "      <td>moby_dick_counts.txt</td>\n",
       "      <td>0.736966</td>\n",
       "    </tr>\n",
       "    <tr>\n",
       "      <th>7</th>\n",
       "      <td>the_oddyssey_counts.txt</td>\n",
       "      <td>0.476860</td>\n",
       "    </tr>\n",
       "    <tr>\n",
       "      <th>1</th>\n",
       "      <td>dracula_counts.txt</td>\n",
       "      <td>0.130053</td>\n",
       "    </tr>\n",
       "    <tr>\n",
       "      <th>0</th>\n",
       "      <td>alice's_adventures_counts.txt</td>\n",
       "      <td>0.086702</td>\n",
       "    </tr>\n",
       "    <tr>\n",
       "      <th>2</th>\n",
       "      <td>frankenstein_counts.txt</td>\n",
       "      <td>0.043351</td>\n",
       "    </tr>\n",
       "    <tr>\n",
       "      <th>8</th>\n",
       "      <td>the_picture_of_dorian_grey_counts.txt</td>\n",
       "      <td>0.043351</td>\n",
       "    </tr>\n",
       "    <tr>\n",
       "      <th>4</th>\n",
       "      <td>pride_and_prejudice_counts.txt</td>\n",
       "      <td>0.000000</td>\n",
       "    </tr>\n",
       "    <tr>\n",
       "      <th>5</th>\n",
       "      <td>the_happy_prince_and_other_tales_counts.txt</td>\n",
       "      <td>0.000000</td>\n",
       "    </tr>\n",
       "    <tr>\n",
       "      <th>6</th>\n",
       "      <td>the_masque_of_red_death_counts.txt</td>\n",
       "      <td>0.000000</td>\n",
       "    </tr>\n",
       "    <tr>\n",
       "      <th>9</th>\n",
       "      <td>the_yellow_wallpaper_counts.txt</td>\n",
       "      <td>0.000000</td>\n",
       "    </tr>\n",
       "  </tbody>\n",
       "</table>\n",
       "</div>"
      ],
      "text/plain": [
       "                                     book name  TF.IDF value\n",
       "3                         moby_dick_counts.txt      0.736966\n",
       "7                      the_oddyssey_counts.txt      0.476860\n",
       "1                           dracula_counts.txt      0.130053\n",
       "0                alice's_adventures_counts.txt      0.086702\n",
       "2                      frankenstein_counts.txt      0.043351\n",
       "8        the_picture_of_dorian_grey_counts.txt      0.043351\n",
       "4               pride_and_prejudice_counts.txt      0.000000\n",
       "5  the_happy_prince_and_other_tales_counts.txt      0.000000\n",
       "6           the_masque_of_red_death_counts.txt      0.000000\n",
       "9              the_yellow_wallpaper_counts.txt      0.000000"
      ]
     },
     "metadata": {},
     "output_type": "display_data"
    }
   ],
   "source": [
    "matching=search_matches(counts_files,books_counts_dictionaries,\"row\")"
   ]
  },
  {
   "cell_type": "code",
   "execution_count": 64,
   "metadata": {},
   "outputs": [
    {
     "name": "stdout",
     "output_type": "stream",
     "text": [
      "Book matching for flow:\n"
     ]
    },
    {
     "data": {
      "text/html": [
       "<div>\n",
       "<style scoped>\n",
       "    .dataframe tbody tr th:only-of-type {\n",
       "        vertical-align: middle;\n",
       "    }\n",
       "\n",
       "    .dataframe tbody tr th {\n",
       "        vertical-align: top;\n",
       "    }\n",
       "\n",
       "    .dataframe thead th {\n",
       "        text-align: right;\n",
       "    }\n",
       "</style>\n",
       "<table border=\"1\" class=\"dataframe\">\n",
       "  <thead>\n",
       "    <tr style=\"text-align: right;\">\n",
       "      <th></th>\n",
       "      <th>book name</th>\n",
       "      <th>TF.IDF value</th>\n",
       "    </tr>\n",
       "  </thead>\n",
       "  <tbody>\n",
       "    <tr>\n",
       "      <th>3</th>\n",
       "      <td>moby_dick_counts.txt</td>\n",
       "      <td>0.736966</td>\n",
       "    </tr>\n",
       "    <tr>\n",
       "      <th>4</th>\n",
       "      <td>pride_and_prejudice_counts.txt</td>\n",
       "      <td>0.491310</td>\n",
       "    </tr>\n",
       "    <tr>\n",
       "      <th>2</th>\n",
       "      <td>frankenstein_counts.txt</td>\n",
       "      <td>0.368483</td>\n",
       "    </tr>\n",
       "    <tr>\n",
       "      <th>7</th>\n",
       "      <td>the_oddyssey_counts.txt</td>\n",
       "      <td>0.368483</td>\n",
       "    </tr>\n",
       "    <tr>\n",
       "      <th>1</th>\n",
       "      <td>dracula_counts.txt</td>\n",
       "      <td>0.122828</td>\n",
       "    </tr>\n",
       "    <tr>\n",
       "      <th>5</th>\n",
       "      <td>the_happy_prince_and_other_tales_counts.txt</td>\n",
       "      <td>0.122828</td>\n",
       "    </tr>\n",
       "    <tr>\n",
       "      <th>0</th>\n",
       "      <td>alice's_adventures_counts.txt</td>\n",
       "      <td>0.000000</td>\n",
       "    </tr>\n",
       "    <tr>\n",
       "      <th>6</th>\n",
       "      <td>the_masque_of_red_death_counts.txt</td>\n",
       "      <td>0.000000</td>\n",
       "    </tr>\n",
       "    <tr>\n",
       "      <th>8</th>\n",
       "      <td>the_picture_of_dorian_grey_counts.txt</td>\n",
       "      <td>0.000000</td>\n",
       "    </tr>\n",
       "    <tr>\n",
       "      <th>9</th>\n",
       "      <td>the_yellow_wallpaper_counts.txt</td>\n",
       "      <td>0.000000</td>\n",
       "    </tr>\n",
       "  </tbody>\n",
       "</table>\n",
       "</div>"
      ],
      "text/plain": [
       "                                     book name  TF.IDF value\n",
       "3                         moby_dick_counts.txt      0.736966\n",
       "4               pride_and_prejudice_counts.txt      0.491310\n",
       "2                      frankenstein_counts.txt      0.368483\n",
       "7                      the_oddyssey_counts.txt      0.368483\n",
       "1                           dracula_counts.txt      0.122828\n",
       "5  the_happy_prince_and_other_tales_counts.txt      0.122828\n",
       "0                alice's_adventures_counts.txt      0.000000\n",
       "6           the_masque_of_red_death_counts.txt      0.000000\n",
       "8        the_picture_of_dorian_grey_counts.txt      0.000000\n",
       "9              the_yellow_wallpaper_counts.txt      0.000000"
      ]
     },
     "metadata": {},
     "output_type": "display_data"
    }
   ],
   "source": [
    "matching=search_matches(counts_files,books_counts_dictionaries,\"flow\")"
   ]
  },
  {
   "cell_type": "code",
   "execution_count": null,
   "metadata": {},
   "outputs": [],
   "source": []
  }
 ],
 "metadata": {
  "kernelspec": {
   "display_name": "Python 3",
   "language": "python",
   "name": "python3"
  },
  "language_info": {
   "codemirror_mode": {
    "name": "ipython",
    "version": 3
   },
   "file_extension": ".py",
   "mimetype": "text/x-python",
   "name": "python",
   "nbconvert_exporter": "python",
   "pygments_lexer": "ipython3",
   "version": "3.6.8"
  }
 },
 "nbformat": 4,
 "nbformat_minor": 4
}
