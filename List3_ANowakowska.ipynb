{
 "cells": [
  {
   "cell_type": "markdown",
   "metadata": {},
   "source": [
    "# List 3\n",
    "## 1. Implement the HyperLogLog algorithm\n",
    "\n",
    "Input : stream, b - boxes to which we put an element and then apply the function to find first 1 in the sequence, b is exactly how many firsts element define the box - $2^b$ gives the number of boxes\n",
    "\n",
    "Output : estimation of the number of different items in the stream\n"
   ]
  },
  {
   "cell_type": "code",
   "execution_count": 1,
   "metadata": {},
   "outputs": [],
   "source": [
    "import hashlib\n",
    "import numpy as np\n",
    "import math"
   ]
  },
  {
   "cell_type": "code",
   "execution_count": 39,
   "metadata": {},
   "outputs": [],
   "source": [
    "class HLL:\n",
    "    def __init__(self,b):\n",
    "        self.b=b\n",
    "        self.m=2**b\n",
    "        self.L_registers={}\n",
    "        \n",
    "        if self.b == 4:\n",
    "            final_alfa = 0.673\n",
    "        if self.b == 5:\n",
    "            final_alfa = 0.697\n",
    "        if self.b == 6:\n",
    "            final_alfa = 0.709\n",
    "        else:\n",
    "            final_alfa = 0.7213 / (1.0 + 1.079 /self.m)\n",
    "        \n",
    "        self.alfa=final_alfa\n",
    "    \n",
    "    def new_item(self,item):\n",
    "        \n",
    "        hashcode=hashlib.md5(str(item).encode('utf-8')).hexdigest()\n",
    "        hashcode=bin(int(hashcode,32))[2:]\n",
    "        \n",
    "        #split the hash representation into a box part and the rest\n",
    "        box=hashcode[:b]\n",
    "        rest_after_box=hashcode[b:]\n",
    "        \n",
    "        #find the first one position\n",
    "        first_one_position=rest_after_box.find(\"1\")+1  #mamy nie liczyć od zera pozycję, tylko od jeden\n",
    "        \n",
    "        #change the counter value for a box, if box appears for the first time set the counter value to the current one\n",
    "        #otherwise do the maximum\n",
    "        try:\n",
    "            current_L=self.L_registers[box]\n",
    "            self.L_registers[box]=max(current_L,first_one_position)\n",
    "        except:\n",
    "            self.L_registers[box]=first_one_position\n",
    "    \n",
    "    def get_counts(self):\n",
    "        counters=list(self.L_registers.values())\n",
    "        counters=np.concatenate((np.array(counters), np.zeros(self.m-len(counters)))) #account for zero counters\n",
    "        return counters\n",
    "    \n",
    "    def estimate_counter(self, mode):\n",
    "        counters=self.get_counts()\n",
    "        Z=np.sum(np.power(2.0,-counters.astype(float)))\n",
    "        E=self.alfa*self.m*self.m/Z\n",
    "        \n",
    "        if mode==\"basic\":\n",
    "            return E\n",
    "        else:\n",
    "            if E<=5/2*self.m:\n",
    "                nr_not_zero_registers=len(self.L_registers)\n",
    "                V=self.m-nr_not_zero_registers #number of zero boxes, unvisited\n",
    "                if V!=0:\n",
    "                    E_corrected=self.m*np.log(self.m/V)\n",
    "                else:\n",
    "                    E_corrected=E\n",
    "        \n",
    "                return E_corrected\n",
    "        \n",
    "            if E<=(1/30)*(2**32):\n",
    "                E_corrected=E\n",
    "        \n",
    "                return E_corrected\n",
    "        \n",
    "            if E>(1/30)*(2**32):\n",
    "                E_corrected=-(2**32)*np.log(1-E/(2**32))\n",
    "    \n",
    "                return E_corrected\n",
    "    "
   ]
  },
  {
   "cell_type": "code",
   "execution_count": 3,
   "metadata": {},
   "outputs": [],
   "source": [
    "import pandas as pd\n",
    "data=pd.read_csv(\"lbl-pkt-4.tcp\",sep=\" \", header=None,\n",
    "                 names= [\"timestamp\", \"source host\", \"destination host\",\"source TCP\",\"destination TCP\",\"nr of data bytes\"])"
   ]
  },
  {
   "cell_type": "code",
   "execution_count": 48,
   "metadata": {},
   "outputs": [
    {
     "data": {
      "text/html": [
       "<div>\n",
       "<style scoped>\n",
       "    .dataframe tbody tr th:only-of-type {\n",
       "        vertical-align: middle;\n",
       "    }\n",
       "\n",
       "    .dataframe tbody tr th {\n",
       "        vertical-align: top;\n",
       "    }\n",
       "\n",
       "    .dataframe thead th {\n",
       "        text-align: right;\n",
       "    }\n",
       "</style>\n",
       "<table border=\"1\" class=\"dataframe\">\n",
       "  <thead>\n",
       "    <tr style=\"text-align: right;\">\n",
       "      <th></th>\n",
       "      <th>timestamp</th>\n",
       "      <th>source host</th>\n",
       "      <th>destination host</th>\n",
       "      <th>source TCP</th>\n",
       "      <th>destination TCP</th>\n",
       "      <th>nr of data bytes</th>\n",
       "    </tr>\n",
       "  </thead>\n",
       "  <tbody>\n",
       "    <tr>\n",
       "      <th>0</th>\n",
       "      <td>7.591896e+08</td>\n",
       "      <td>1</td>\n",
       "      <td>2</td>\n",
       "      <td>6000</td>\n",
       "      <td>1146</td>\n",
       "      <td>32</td>\n",
       "    </tr>\n",
       "    <tr>\n",
       "      <th>1</th>\n",
       "      <td>1.544400e-02</td>\n",
       "      <td>3</td>\n",
       "      <td>4</td>\n",
       "      <td>4695</td>\n",
       "      <td>119</td>\n",
       "      <td>0</td>\n",
       "    </tr>\n",
       "    <tr>\n",
       "      <th>2</th>\n",
       "      <td>2.548300e-02</td>\n",
       "      <td>5</td>\n",
       "      <td>6</td>\n",
       "      <td>21</td>\n",
       "      <td>1029</td>\n",
       "      <td>46</td>\n",
       "    </tr>\n",
       "    <tr>\n",
       "      <th>3</th>\n",
       "      <td>3.791200e-02</td>\n",
       "      <td>3</td>\n",
       "      <td>4</td>\n",
       "      <td>4695</td>\n",
       "      <td>119</td>\n",
       "      <td>53</td>\n",
       "    </tr>\n",
       "    <tr>\n",
       "      <th>4</th>\n",
       "      <td>4.236400e-02</td>\n",
       "      <td>7</td>\n",
       "      <td>8</td>\n",
       "      <td>80</td>\n",
       "      <td>1170</td>\n",
       "      <td>512</td>\n",
       "    </tr>\n",
       "    <tr>\n",
       "      <th>...</th>\n",
       "      <td>...</td>\n",
       "      <td>...</td>\n",
       "      <td>...</td>\n",
       "      <td>...</td>\n",
       "      <td>...</td>\n",
       "      <td>...</td>\n",
       "    </tr>\n",
       "    <tr>\n",
       "      <th>862941</th>\n",
       "      <td>3.599959e+03</td>\n",
       "      <td>1018</td>\n",
       "      <td>267</td>\n",
       "      <td>1023</td>\n",
       "      <td>514</td>\n",
       "      <td>512</td>\n",
       "    </tr>\n",
       "    <tr>\n",
       "      <th>862942</th>\n",
       "      <td>3.599959e+03</td>\n",
       "      <td>131</td>\n",
       "      <td>546</td>\n",
       "      <td>1177</td>\n",
       "      <td>119</td>\n",
       "      <td>0</td>\n",
       "    </tr>\n",
       "    <tr>\n",
       "      <th>862943</th>\n",
       "      <td>3.599962e+03</td>\n",
       "      <td>3</td>\n",
       "      <td>4</td>\n",
       "      <td>4731</td>\n",
       "      <td>119</td>\n",
       "      <td>0</td>\n",
       "    </tr>\n",
       "    <tr>\n",
       "      <th>862944</th>\n",
       "      <td>3.599978e+03</td>\n",
       "      <td>79</td>\n",
       "      <td>95</td>\n",
       "      <td>2731</td>\n",
       "      <td>80</td>\n",
       "      <td>0</td>\n",
       "    </tr>\n",
       "    <tr>\n",
       "      <th>862945</th>\n",
       "      <td>3.599995e+03</td>\n",
       "      <td>267</td>\n",
       "      <td>1018</td>\n",
       "      <td>514</td>\n",
       "      <td>1023</td>\n",
       "      <td>0</td>\n",
       "    </tr>\n",
       "  </tbody>\n",
       "</table>\n",
       "<p>862946 rows × 6 columns</p>\n",
       "</div>"
      ],
      "text/plain": [
       "           timestamp  source host  destination host  source TCP  \\\n",
       "0       7.591896e+08            1                 2        6000   \n",
       "1       1.544400e-02            3                 4        4695   \n",
       "2       2.548300e-02            5                 6          21   \n",
       "3       3.791200e-02            3                 4        4695   \n",
       "4       4.236400e-02            7                 8          80   \n",
       "...              ...          ...               ...         ...   \n",
       "862941  3.599959e+03         1018               267        1023   \n",
       "862942  3.599959e+03          131               546        1177   \n",
       "862943  3.599962e+03            3                 4        4731   \n",
       "862944  3.599978e+03           79                95        2731   \n",
       "862945  3.599995e+03          267              1018         514   \n",
       "\n",
       "        destination TCP  nr of data bytes  \n",
       "0                  1146                32  \n",
       "1                   119                 0  \n",
       "2                  1029                46  \n",
       "3                   119                53  \n",
       "4                  1170               512  \n",
       "...                 ...               ...  \n",
       "862941              514               512  \n",
       "862942              119                 0  \n",
       "862943              119                 0  \n",
       "862944               80                 0  \n",
       "862945             1023                 0  \n",
       "\n",
       "[862946 rows x 6 columns]"
      ]
     },
     "execution_count": 48,
     "metadata": {},
     "output_type": "execute_result"
    }
   ],
   "source": [
    "data"
   ]
  },
  {
   "cell_type": "markdown",
   "metadata": {},
   "source": [
    "### a) different source hosts"
   ]
  },
  {
   "cell_type": "code",
   "execution_count": 50,
   "metadata": {},
   "outputs": [
    {
     "name": "stdout",
     "output_type": "stream",
     "text": [
      "exact number of different source hosts:  997\n",
      "b:  4  basic HLL:  21.579210044445112  extended HLL:  11.090354888959125\n",
      "b:  5  basic HLL:  41.63697094306717  extended HLL:  20.240721879792336\n",
      "b:  6  basic HLL:  84.30687102528499  extended HLL:  40.48144375958467\n",
      "b:  7  basic HLL:  163.10085770938133  extended HLL:  77.25248279939304\n",
      "b:  8  basic HLL:  306.82415130626174  extended HLL:  143.76213062943384\n",
      "b:  9  basic HLL:  553.8721084642567  extended HLL:  239.04435297765986\n",
      "b:  10  basic HLL:  948.250147816275  extended HLL:  332.6173382668674\n",
      "b:  11  basic HLL:  1784.549897433827  extended HLL:  510.69585029047147\n",
      "b:  12  basic HLL:  3350.2289034837095  extended HLL:  691.1684553423825\n",
      "b:  13  basic HLL:  6371.658585693697  extended HLL:  822.9895443466829\n",
      "b:  14  basic HLL:  12316.401739363575  extended HLL:  887.6152275275713\n",
      "b:  15  basic HLL:  24087.055799512622  extended HLL:  916.7039213633368\n",
      "b:  16  basic HLL:  47743.520803415726  extended HLL:  950.864829900574\n"
     ]
    }
   ],
   "source": [
    "print(\"exact number of different source hosts: \",len(set(data[\"source host\"])))\n",
    "bs=[4,5,6,7,8,9,10,11,12,13,14,15,16]\n",
    "hll_basic=[]\n",
    "hll_extended=[]\n",
    "for b in bs:\n",
    "    hll=HLL(b)\n",
    "    for item in list(data[\"source host\"]):\n",
    "        hll.new_item(item)\n",
    "    \n",
    "    basic=hll.estimate_counter(\"basic\")\n",
    "    extend=hll.estimate_counter(\"extend\")\n",
    "    hll_basic.append(basic)\n",
    "    hll_extended.append(extend)\n",
    "    print(\"b: \", b, \" basic HLL: \", basic, \" extended HLL: \", extend)"
   ]
  },
  {
   "cell_type": "code",
   "execution_count": 44,
   "metadata": {},
   "outputs": [
    {
     "data": {
      "text/plain": [
       "<matplotlib.legend.Legend at 0x1c9f1218948>"
      ]
     },
     "execution_count": 44,
     "metadata": {},
     "output_type": "execute_result"
    },
    {
     "data": {
      "image/png": "[encoded data removed]",
      "text/plain": [
       "<Figure size 432x288 with 1 Axes>"
      ]
     },
     "metadata": {
      "needs_background": "light"
     },
     "output_type": "display_data"
    }
   ],
   "source": [
    "import matplotlib.pyplot as plt\n",
    "plt.plot(bs, hll_basic, label=\"Basic HLL\")\n",
    "plt.plot(bs, hll_extended, label=\"Extended HLL\")\n",
    "plt.plot(bs, np.repeat(997, len(bs)), label=\"exact value\")\n",
    "plt.legend()"
   ]
  },
  {
   "cell_type": "markdown",
   "metadata": {},
   "source": [
    "### b) different destination hosts"
   ]
  },
  {
   "cell_type": "code",
   "execution_count": 49,
   "metadata": {},
   "outputs": [
    {
     "name": "stdout",
     "output_type": "stream",
     "text": [
      "exact number of different destination hosts:  1010\n",
      "b:  4  basic HLL:  21.568740997533805  extended HLL:  11.090354888959125\n",
      "b:  5  basic HLL:  41.60035098091823  extended HLL:  20.240721879792336\n",
      "b:  6  basic HLL:  84.23299147005513  extended HLL:  40.48144375958467\n",
      "b:  7  basic HLL:  163.03022849590627  extended HLL:  77.25248279939304\n",
      "b:  8  basic HLL:  306.6996958637943  extended HLL:  143.76213062943384\n",
      "b:  9  basic HLL:  555.4011369426078  extended HLL:  240.64185817381664\n",
      "b:  10  basic HLL:  947.2479239373232  extended HLL:  331.234488630647\n",
      "b:  11  basic HLL:  1783.5974874749427  extended HLL:  510.69585029047147\n",
      "b:  12  basic HLL:  3355.3129174832943  extended HLL:  699.463554373023\n",
      "b:  13  basic HLL:  6376.775861632678  extended HLL:  830.7329788574734\n",
      "b:  14  basic HLL:  12322.198100970532  extended HLL:  900.2881687292258\n",
      "b:  15  basic HLL:  24092.786952206632  extended HLL:  929.0466925557921\n",
      "b:  16  basic HLL:  47750.33943116892  extended HLL:  963.0413387765327\n"
     ]
    }
   ],
   "source": [
    "print(\"exact number of different destination hosts: \",len(set(data[\"destination host\"])))\n",
    "bs=[4,5,6,7,8,9,10,11,12,13,14,15,16]\n",
    "hll_basic=[]\n",
    "hll_extended=[]\n",
    "for b in bs:\n",
    "    hll=HLL(b)\n",
    "    for item in list(data[\"destination host\"]):\n",
    "        hll.new_item(item)\n",
    "    \n",
    "    basic=hll.estimate_counter(\"basic\")\n",
    "    extend=hll.estimate_counter(\"extend\")\n",
    "    hll_basic.append(basic)\n",
    "    hll_extended.append(extend)\n",
    "    print(\"b: \", b, \" basic HLL: \", basic, \" extended HLL: \", extend)"
   ]
  },
  {
   "cell_type": "markdown",
   "metadata": {},
   "source": [
    "### c) different pairs destination-source"
   ]
  },
  {
   "cell_type": "code",
   "execution_count": 54,
   "metadata": {},
   "outputs": [
    {
     "name": "stdout",
     "output_type": "stream",
     "text": [
      "b:  4  basic HLL:  21.611666974523473  extended HLL:  11.090354888959125\n",
      "b:  5  basic HLL:  41.90982554268513  extended HLL:  20.240721879792336\n",
      "b:  6  basic HLL:  85.0718286054255  extended HLL:  40.48144375958467\n",
      "b:  7  basic HLL:  165.69885374367448  extended HLL:  77.25248279939304\n",
      "b:  8  basic HLL:  316.02729218944995  extended HLL:  143.76213062943384\n",
      "b:  9  basic HLL:  582.3414970855481  extended HLL:  251.96617446366952\n",
      "b:  10  basic HLL:  1028.5517954939469  extended HLL:  393.91886831506355\n",
      "b:  11  basic HLL:  1948.5865657271831  extended HLL:  686.0973357224566\n",
      "b:  12  basic HLL:  3629.213235985349  extended HLL:  1075.6441493490277\n",
      "b:  13  basic HLL:  6773.100094553478  extended HLL:  1454.8697889174948\n",
      "b:  14  basic HLL:  12788.439295195989  extended HLL:  1690.2661814786688\n",
      "b:  15  basic HLL:  24526.440461750524  extended HLL:  1768.897046537533\n",
      "b:  16  basic HLL:  48255.00161576392  extended HLL:  1945.5962059305125\n",
      "exact:  2126\n"
     ]
    }
   ],
   "source": [
    "destination=list(data[\"destination host\"])\n",
    "source=list(data[\"source host\"])\n",
    "check=[]\n",
    "\n",
    "for b in bs:\n",
    "    hll=HLL(b)\n",
    "    for index in range(len(source)):\n",
    "        item=str(destination[index])+\"-\"+str(source[index])\n",
    "        check.append(item)\n",
    "        hll.new_item(item)\n",
    "    basic=hll.estimate_counter(\"basic\")\n",
    "    extend=hll.estimate_counter(\"extend\")\n",
    "    hll_basic.append(basic)\n",
    "    hll_extended.append(extend)\n",
    "    print(\"b: \", b, \" basic HLL: \", basic, \" extended HLL: \", extend)\n",
    "print(\"exact: \", len(set(check)))"
   ]
  },
  {
   "cell_type": "markdown",
   "metadata": {},
   "source": [
    "### Conclusion: \n",
    "HLL gives good approximation when b=16 and the correction is applied. "
   ]
  },
  {
   "cell_type": "markdown",
   "metadata": {},
   "source": [
    "# 2. Shingles, cleaning and jaccard\n",
    "Write the procedure with the interface\n",
    "jaccard(f1:String,f2:String,k:Integer):Double\n",
    "which for the files named f1 and f2 determines their k-shingles and then calculates their\n",
    "Jaccard distance. Before determining k-shingles, the files should be cleaned (the minimum is\n",
    "to delete new line characters, tabs and double spaces).\n",
    "\n",
    "Apply this procedure to several variants of your program file (use 4-shingles).\n",
    "\n",
    "Use this procedure to compare subsequent chapters of the book analyzed in Problem 2\n",
    "(use 7-shingles)."
   ]
  },
  {
   "cell_type": "code",
   "execution_count": 19,
   "metadata": {},
   "outputs": [],
   "source": [
    "import nltk\n",
    "from nltk.tokenize import word_tokenize\n",
    "\n",
    "def clean(filename):\n",
    "# split into words, remove punctuation marks and lower letters to remove capital letters\n",
    "    # load data\n",
    "    file = open(filename, 'rt',encoding=\"latin-1\")\n",
    "    text = file.read()\n",
    "    file.close()\n",
    "    # split into words\n",
    "    tokens = word_tokenize(text)\n",
    "    # remove all tokens that are not alphabetic\n",
    "    words = [word.lower() for word in tokens if word.isalpha()]\n",
    "    return words"
   ]
  },
  {
   "cell_type": "code",
   "execution_count": 20,
   "metadata": {},
   "outputs": [],
   "source": [
    "def shingles(k,list_of_words):\n",
    "    k_shingles=[]\n",
    "    for i in range(len(list_of_words)-k+1):\n",
    "        k_shingles.append(tuple(list_of_words[i:i+k]))\n",
    "    return k_shingles"
   ]
  },
  {
   "cell_type": "code",
   "execution_count": 21,
   "metadata": {},
   "outputs": [],
   "source": [
    "def jaccard(A,B):\n",
    "    A=set(A)\n",
    "    B=set(B)\n",
    "    try:\n",
    "        jaccard=len(A.intersection(B))/len(A.union(B))\n",
    "        #print(\"A.intersection(B)\",A.intersection(B))\n",
    "        #print(\"A.union(B)\",A.union(B))\n",
    "        return jaccard\n",
    "    except:\n",
    "        print(\"incorrect arguments\")"
   ]
  },
  {
   "cell_type": "markdown",
   "metadata": {},
   "source": [
    "### Example"
   ]
  },
  {
   "cell_type": "code",
   "execution_count": 108,
   "metadata": {},
   "outputs": [
    {
     "name": "stdout",
     "output_type": "stream",
     "text": [
      "Pretty printing has been turned OFF\n"
     ]
    },
    {
     "data": {
      "text/plain": [
       "['adventures', 'in', 'wonderland', 'by', 'lewis', 'carroll', 'the', 'millennium', 'fulcrum', 'edition', 'contents', 'chapter', 'i', 'down', 'the', 'chapter', 'ii', 'the', 'pool', 'of', 'tears', 'chapter', 'iii', 'a', 'and', 'a', 'long', 'tale', 'chapter', 'iv', 'the', 'rabbit', 'sends', 'in', 'a', 'little', 'bill', 'chapter', 'advice', 'from', 'a', 'caterpillar', 'chapter', 'vi', 'pig', 'and', 'pepper', 'chapter', 'vii']"
      ]
     },
     "execution_count": 108,
     "metadata": {},
     "output_type": "execute_result"
    }
   ],
   "source": [
    "%pprint\n",
    "#read and clean\n",
    "w = clean(\"alice's_adventures.txt\")\n",
    "w[1:50]"
   ]
  },
  {
   "cell_type": "code",
   "execution_count": 109,
   "metadata": {},
   "outputs": [
    {
     "name": "stdout",
     "output_type": "stream",
     "text": [
      "[('ala', 'ma'), ('ma', 'kota'), ('kota', 'kot'), ('kot', 'ma'), ('ma', 'alę')]\n",
      "[('kot', 'ma'), ('ma', 'lubi'), ('lubi', 'alę'), ('alę', 'ala'), ('ala', 'lubi'), ('lubi', 'kota')]\n"
     ]
    }
   ],
   "source": [
    "#how shingles work\n",
    "w1=shingles(2,[\"ala\",\"ma\",\"kota\",\"kot\",\"ma\",\"alę\"])\n",
    "print(w1)\n",
    "w2=shingles(2,[\"kot\",\"ma\",\"lubi\",\"alę\",\"ala\",\"lubi\",\"kota\"])\n",
    "print(w2)"
   ]
  },
  {
   "cell_type": "code",
   "execution_count": 106,
   "metadata": {},
   "outputs": [
    {
     "name": "stdout",
     "output_type": "stream",
     "text": [
      "A.intersection(B) {('kot', 'ma')}\n",
      "A.union(B) {('ma', 'kota'), ('ma', 'lubi'), ('kot', 'ma'), ('kota', 'kot'), ('alę', 'ala'), ('ala', 'lubi'), ('lubi', 'alę'), ('ala', 'ma'), ('ma', 'alę'), ('lubi', 'kota')}\n"
     ]
    },
    {
     "data": {
      "text/plain": [
       "0.1"
      ]
     },
     "execution_count": 106,
     "metadata": {},
     "output_type": "execute_result"
    }
   ],
   "source": [
    "jaccard(w1,w2)"
   ]
  },
  {
   "cell_type": "markdown",
   "metadata": {},
   "source": [
    "### Compare documents"
   ]
  },
  {
   "cell_type": "code",
   "execution_count": 6,
   "metadata": {},
   "outputs": [],
   "source": [
    "K=7\n",
    "books=[\"moby_dick.txt\",\"alice's_adventures.txt\",\"dracula.txt\",\"frankenstein.txt\",\"pride_and_prejudice.txt\",\n",
    "                   \"the_happy_prince_and_other_tales.txt\",\"the_masque_of_red_death.txt\",\"the_oddyssey.txt\",\n",
    "                   \"the_picture_of_dorian_grey.txt\",\"the_yellow_wallpaper.txt\"]\n",
    "texts=[clean(i) for i in books]\n",
    "text_shingles=[shingles(K,i) for i in texts]"
   ]
  },
  {
   "cell_type": "code",
   "execution_count": 9,
   "metadata": {},
   "outputs": [
    {
     "name": "stdout",
     "output_type": "stream",
     "text": [
      "book 1:  moby_dick.txt  book 2:  alice's_adventures.txt 0.0\n",
      "book 1:  moby_dick.txt  book 2:  dracula.txt 1.656232402530723e-05\n",
      "book 1:  moby_dick.txt  book 2:  frankenstein.txt 0.0\n",
      "book 1:  moby_dick.txt  book 2:  pride_and_prejudice.txt 9.387555855957342e-06\n",
      "book 1:  moby_dick.txt  book 2:  the_happy_prince_and_other_tales.txt 0.0\n",
      "book 1:  moby_dick.txt  book 2:  the_masque_of_red_death.txt 0.0\n",
      "book 1:  moby_dick.txt  book 2:  the_oddyssey.txt 3.063800583347631e-06\n",
      "book 1:  moby_dick.txt  book 2:  the_picture_of_dorian_grey.txt 0.0\n",
      "book 1:  moby_dick.txt  book 2:  the_yellow_wallpaper.txt 0.0\n",
      "book 1:  alice's_adventures.txt  book 2:  dracula.txt 1.6422968068275752e-05\n",
      "book 1:  alice's_adventures.txt  book 2:  frankenstein.txt 0.0\n",
      "book 1:  alice's_adventures.txt  book 2:  pride_and_prejudice.txt 7.144183919870833e-06\n",
      "book 1:  alice's_adventures.txt  book 2:  the_happy_prince_and_other_tales.txt 0.0\n",
      "book 1:  alice's_adventures.txt  book 2:  the_masque_of_red_death.txt 0.0\n",
      "book 1:  alice's_adventures.txt  book 2:  the_oddyssey.txt 0.0\n",
      "book 1:  alice's_adventures.txt  book 2:  the_picture_of_dorian_grey.txt 1.279606904758858e-05\n",
      "book 1:  alice's_adventures.txt  book 2:  the_yellow_wallpaper.txt 0.0\n",
      "book 1:  dracula.txt  book 2:  frankenstein.txt 8.602557540356748e-06\n",
      "book 1:  dracula.txt  book 2:  pride_and_prejudice.txt 1.8209894528290892e-05\n",
      "book 1:  dracula.txt  book 2:  the_happy_prince_and_other_tales.txt 0.0\n",
      "book 1:  dracula.txt  book 2:  the_masque_of_red_death.txt 0.0\n",
      "book 1:  dracula.txt  book 2:  the_oddyssey.txt 3.5536855272603217e-06\n",
      "book 1:  dracula.txt  book 2:  the_picture_of_dorian_grey.txt 3.290262233900042e-05\n",
      "book 1:  dracula.txt  book 2:  the_yellow_wallpaper.txt 0.0\n",
      "book 1:  frankenstein.txt  book 2:  pride_and_prejudice.txt 5.268953743855083e-06\n",
      "book 1:  frankenstein.txt  book 2:  the_happy_prince_and_other_tales.txt 0.0\n",
      "book 1:  frankenstein.txt  book 2:  the_masque_of_red_death.txt 0.0\n",
      "book 1:  frankenstein.txt  book 2:  the_oddyssey.txt 1.0172526041666666e-05\n",
      "book 1:  frankenstein.txt  book 2:  the_picture_of_dorian_grey.txt 0.0\n",
      "book 1:  frankenstein.txt  book 2:  the_yellow_wallpaper.txt 0.0\n",
      "book 1:  pride_and_prejudice.txt  book 2:  the_happy_prince_and_other_tales.txt 7.625089594802739e-06\n",
      "book 1:  pride_and_prejudice.txt  book 2:  the_masque_of_red_death.txt 0.0\n",
      "book 1:  pride_and_prejudice.txt  book 2:  the_oddyssey.txt 0.0\n",
      "book 1:  pride_and_prejudice.txt  book 2:  the_picture_of_dorian_grey.txt 5.8804158630098325e-06\n",
      "book 1:  pride_and_prejudice.txt  book 2:  the_yellow_wallpaper.txt 0.0\n",
      "book 1:  the_happy_prince_and_other_tales.txt  book 2:  the_masque_of_red_death.txt 0.0\n",
      "book 1:  the_happy_prince_and_other_tales.txt  book 2:  the_oddyssey.txt 0.0\n",
      "book 1:  the_happy_prince_and_other_tales.txt  book 2:  the_picture_of_dorian_grey.txt 0.00010098824208324317\n",
      "book 1:  the_happy_prince_and_other_tales.txt  book 2:  the_yellow_wallpaper.txt 0.0\n",
      "book 1:  the_masque_of_red_death.txt  book 2:  the_oddyssey.txt 0.0\n",
      "book 1:  the_masque_of_red_death.txt  book 2:  the_picture_of_dorian_grey.txt 0.0\n",
      "book 1:  the_masque_of_red_death.txt  book 2:  the_yellow_wallpaper.txt 0.0\n",
      "book 1:  the_oddyssey.txt  book 2:  the_picture_of_dorian_grey.txt 0.0\n",
      "book 1:  the_oddyssey.txt  book 2:  the_yellow_wallpaper.txt 0.0\n",
      "book 1:  the_picture_of_dorian_grey.txt  book 2:  the_yellow_wallpaper.txt 0.0\n"
     ]
    }
   ],
   "source": [
    "from itertools import *\n",
    "for combo in combinations(range(len(text_shingles)), 2):  # 2 for pairs, 3 for triplets, etc\n",
    "    i=combo[0]\n",
    "    j=combo[1]\n",
    "    print(\"book 1: \", books[i], \" book 2: \", books[j], jaccard(text_shingles[i],text_shingles[j]))"
   ]
  },
  {
   "cell_type": "markdown",
   "metadata": {},
   "source": [
    "# 3. Min hash\n",
    "Apply the min-hash method to the previous problem. Your procedure should\n",
    "depend on the H parameter, which determines the number of hash functions used to build the\n",
    "signature.\n",
    "Test this procedure on the data from the previous problem for H ∈ {50, 100, 250} and\n",
    "compare the Jaccard distance approximation with its exact values. Remember to generate a\n",
    "shared family of hash functions for all analyzed texts.\n",
    "\n",
    "Algorithm:\n",
    "\n",
    "1. First set the set of hash functions - murmur hash functions with a seed. Generate random sample of seeds and use them from this moment for further calls of hash functions.\n",
    "\n",
    "2. Go through each document of the corpus and create its signature. For each hash function hash all shingles of the document and take the lowest value - it will be the next element of the signature.\n",
    "\n",
    "3. Having the sigantures for each document compare them in pairwisely. Calculate at how many indexes the values in the signatures for both documents are the same. Divide this number by number of hashes applied - the length of the signature.\n",
    "\n",
    "In this way we obtain an approximation of the Jaccard similarity. The basic idea is to shuffle the set of all elements across all documents and check at which position in shuffle the first element appears in the document. Then the probability of agreement (all elements: [\"a,\"b\",\"c\",\"d\"] -> shuffle [\"b\",\"c\",\"d\",\"a\"], first set [\"a\",\"b\"] first index of appearence is after shuffling 1) is equal to Jaccard. However, shuffling is expensive that we simulate shuffling by applying hash functions that work as uniformly distributed random variables.\n"
   ]
  },
  {
   "cell_type": "code",
   "execution_count": 23,
   "metadata": {},
   "outputs": [],
   "source": [
    "import mmh3\n",
    "import random\n",
    "def make_signature(shingles_list, seed_values):\n",
    "    signature=[min([mmh3.hash(shingle, seed) for shingle in shingles_list]) for seed in seed_values]\n",
    "    return signature"
   ]
  },
  {
   "cell_type": "code",
   "execution_count": 40,
   "metadata": {},
   "outputs": [],
   "source": [
    "def calculate_similarity(signature1, signature2):\n",
    "    m=len(signature1)\n",
    "    sim=[1 for i in range(m) if signature1[i]==signature2[i]]\n",
    "    return sum(sim)/m"
   ]
  },
  {
   "cell_type": "code",
   "execution_count": 30,
   "metadata": {},
   "outputs": [],
   "source": [
    "def shingles2(k,list_of_words):\n",
    "    k_shingles=[]\n",
    "    for i in range(len(list_of_words)-k+1):\n",
    "        k_shingles.append(str(tuple(list_of_words[i:i+k])))\n",
    "    return k_shingles"
   ]
  },
  {
   "cell_type": "code",
   "execution_count": 71,
   "metadata": {},
   "outputs": [],
   "source": [
    "from itertools import *\n",
    "def run(documents, number_of_hashes, K):\n",
    "    signatures={}\n",
    "    seed_values=random.sample(range(5000), number_of_hashes)\n",
    "    \n",
    "    for i in documents:\n",
    "        file=clean(i)\n",
    "        list_shingles=shingles2(K,file)\n",
    "        signature=make_signature(list_shingles,seed_values)\n",
    "        signatures[i]=signature\n",
    "        \n",
    "    v1=[]\n",
    "    v2=[]\n",
    "    \n",
    "    for combo in combinations(range(len(documents)), 2):  # 2 for pairs, 3 for triplets, etc\n",
    "        i=combo[0]\n",
    "        j=combo[1]\n",
    "        book1=documents[i]\n",
    "        book2=documents[j]\n",
    "        signature1=signatures[book1]\n",
    "        signature2=signatures[book2]\n",
    "        \n",
    "        text1=clean(book1)\n",
    "        text2=clean(book2)\n",
    "        text_shingles1=shingles(K,text1)\n",
    "        text_shingles2=shingles(K,text2)\n",
    "        \n",
    "        #print(\"Pair: \", book1, \" - \", book2,\" : \", calculate_similarity(signature1,signature2),\n",
    "         #    \" exact value: \",jaccard(text_shingles1,text_shingles2))\n",
    "        v1.append(calculate_similarity(signature1,signature2))\n",
    "        v2.append(jaccard(text_shingles1,text_shingles2))\n",
    "        \n",
    "    return v1, v2 "
   ]
  },
  {
   "cell_type": "code",
   "execution_count": 64,
   "metadata": {},
   "outputs": [
    {
     "name": "stdout",
     "output_type": "stream",
     "text": [
      "Pair:  moby_dick.txt  -  alice's_adventures.txt  :  0.0  exact value:  0.009267416222457806\n",
      "Pair:  moby_dick.txt  -  dracula.txt  :  0.0  exact value:  0.028431272758316122\n",
      "Pair:  moby_dick.txt  -  frankenstein.txt  :  0.0  exact value:  0.016713080514374642\n",
      "Pair:  moby_dick.txt  -  pride_and_prejudice.txt  :  0.0  exact value:  0.021146015125072717\n",
      "Pair:  moby_dick.txt  -  the_happy_prince_and_other_tales.txt  :  0.0  exact value:  0.007833288640442254\n",
      "Pair:  moby_dick.txt  -  the_masque_of_red_death.txt  :  0.0  exact value:  0.0014197205163213463\n",
      "Pair:  moby_dick.txt  -  the_oddyssey.txt  :  0.0  exact value:  0.0251629921231115\n",
      "Pair:  moby_dick.txt  -  the_picture_of_dorian_grey.txt  :  0.0  exact value:  0.01679829621084391\n",
      "Pair:  moby_dick.txt  -  the_yellow_wallpaper.txt  :  0.0  exact value:  0.003415454126917847\n",
      "Pair:  alice's_adventures.txt  -  dracula.txt  :  0.0  exact value:  0.015800737367743827\n",
      "Pair:  alice's_adventures.txt  -  frankenstein.txt  :  0.0  exact value:  0.010427263479145472\n",
      "Pair:  alice's_adventures.txt  -  pride_and_prejudice.txt  :  0.02  exact value:  0.01552040755879391\n",
      "Pair:  alice's_adventures.txt  -  the_happy_prince_and_other_tales.txt  :  0.0  exact value:  0.01846670397313934\n",
      "Pair:  alice's_adventures.txt  -  the_masque_of_red_death.txt  :  0.0  exact value:  0.0022852707830286305\n",
      "Pair:  alice's_adventures.txt  -  the_oddyssey.txt  :  0.0  exact value:  0.014782278160239895\n",
      "Pair:  alice's_adventures.txt  -  the_picture_of_dorian_grey.txt  :  0.02  exact value:  0.01853342875887159\n",
      "Pair:  alice's_adventures.txt  -  the_yellow_wallpaper.txt  :  0.02  exact value:  0.009264532786574022\n",
      "Pair:  dracula.txt  -  frankenstein.txt  :  0.04  exact value:  0.026651860077734593\n",
      "Pair:  dracula.txt  -  pride_and_prejudice.txt  :  0.02  exact value:  0.03439793513634833\n",
      "Pair:  dracula.txt  -  the_happy_prince_and_other_tales.txt  :  0.02  exact value:  0.013459966035599723\n",
      "Pair:  dracula.txt  -  the_masque_of_red_death.txt  :  0.0  exact value:  0.0017609987485668467\n",
      "Pair:  dracula.txt  -  the_oddyssey.txt  :  0.04  exact value:  0.03866875686974071\n",
      "Pair:  dracula.txt  -  the_picture_of_dorian_grey.txt  :  0.04  exact value:  0.030639897597933508\n",
      "Pair:  dracula.txt  -  the_yellow_wallpaper.txt  :  0.02  exact value:  0.007026208640178742\n",
      "Pair:  frankenstein.txt  -  pride_and_prejudice.txt  :  0.02  exact value:  0.025424779090086627\n",
      "Pair:  frankenstein.txt  -  the_happy_prince_and_other_tales.txt  :  0.04  exact value:  0.010909641901106116\n",
      "Pair:  frankenstein.txt  -  the_masque_of_red_death.txt  :  0.0  exact value:  0.0020412626667638697\n",
      "Pair:  frankenstein.txt  -  the_oddyssey.txt  :  0.0  exact value:  0.023053686922036284\n",
      "Pair:  frankenstein.txt  -  the_picture_of_dorian_grey.txt  :  0.04  exact value:  0.020263424518743668\n",
      "Pair:  frankenstein.txt  -  the_yellow_wallpaper.txt  :  0.02  exact value:  0.005217124443762468\n",
      "Pair:  pride_and_prejudice.txt  -  the_happy_prince_and_other_tales.txt  :  0.02  exact value:  0.01282039755819076\n",
      "Pair:  pride_and_prejudice.txt  -  the_masque_of_red_death.txt  :  0.0  exact value:  0.0016608668142992723\n",
      "Pair:  pride_and_prejudice.txt  -  the_oddyssey.txt  :  0.0  exact value:  0.029838881470589763\n",
      "Pair:  pride_and_prejudice.txt  -  the_picture_of_dorian_grey.txt  :  0.02  exact value:  0.02608927269668592\n",
      "Pair:  pride_and_prejudice.txt  -  the_yellow_wallpaper.txt  :  0.04  exact value:  0.005969144999279089\n",
      "Pair:  the_happy_prince_and_other_tales.txt  -  the_masque_of_red_death.txt  :  0.0  exact value:  0.003281378178835111\n",
      "Pair:  the_happy_prince_and_other_tales.txt  -  the_oddyssey.txt  :  0.0  exact value:  0.014554155310287755\n",
      "Pair:  the_happy_prince_and_other_tales.txt  -  the_picture_of_dorian_grey.txt  :  0.06  exact value:  0.021771192974223176\n",
      "Pair:  the_happy_prince_and_other_tales.txt  -  the_yellow_wallpaper.txt  :  0.04  exact value:  0.012954868608141556\n",
      "Pair:  the_masque_of_red_death.txt  -  the_oddyssey.txt  :  0.0  exact value:  0.0017081189956655246\n",
      "Pair:  the_masque_of_red_death.txt  -  the_picture_of_dorian_grey.txt  :  0.0  exact value:  0.002524997475002525\n",
      "Pair:  the_masque_of_red_death.txt  -  the_yellow_wallpaper.txt  :  0.0  exact value:  0.0030472320975114273\n",
      "Pair:  the_oddyssey.txt  -  the_picture_of_dorian_grey.txt  :  0.06  exact value:  0.0262588340769484\n",
      "Pair:  the_oddyssey.txt  -  the_yellow_wallpaper.txt  :  0.0  exact value:  0.006270585862853741\n",
      "Pair:  the_picture_of_dorian_grey.txt  -  the_yellow_wallpaper.txt  :  0.04  exact value:  0.009279902437165342\n"
     ]
    }
   ],
   "source": [
    "books=[\"moby_dick.txt\",\"alice's_adventures.txt\",\"dracula.txt\",\"frankenstein.txt\",\"pride_and_prejudice.txt\",\n",
    "                   \"the_happy_prince_and_other_tales.txt\",\"the_masque_of_red_death.txt\",\"the_oddyssey.txt\",\n",
    "                   \"the_picture_of_dorian_grey.txt\",\"the_yellow_wallpaper.txt\"]\n",
    "H=50\n",
    "K=3\n",
    "run(books, H, K)"
   ]
  },
  {
   "cell_type": "code",
   "execution_count": 72,
   "metadata": {},
   "outputs": [],
   "source": [
    "H=50\n",
    "K=3\n",
    "estimate, exact = run(books, H, K)"
   ]
  },
  {
   "cell_type": "code",
   "execution_count": 74,
   "metadata": {},
   "outputs": [],
   "source": [
    "H=100\n",
    "estimate2, exact2 = run(books, H, K)"
   ]
  },
  {
   "cell_type": "code",
   "execution_count": 75,
   "metadata": {},
   "outputs": [],
   "source": [
    "H=250\n",
    "estimate3, exact3 = run(books, H, K)"
   ]
  },
  {
   "cell_type": "code",
   "execution_count": 77,
   "metadata": {},
   "outputs": [
    {
     "data": {
      "text/plain": [
       "Text(0.5, 1.0, 'Minhash vs Jaccard')"
      ]
     },
     "execution_count": 77,
     "metadata": {},
     "output_type": "execute_result"
    },
    {
     "data": {
      "image/png": "[encoded data removed]",
      "text/plain": [
       "<Figure size 432x288 with 1 Axes>"
      ]
     },
     "metadata": {
      "needs_background": "light"
     },
     "output_type": "display_data"
    }
   ],
   "source": [
    "import matplotlib.pyplot as plt\n",
    "plt.plot(exact,\"-*\",label=\"Exact\" )\n",
    "plt.plot(estimate,label=\"H=50\")\n",
    "plt.plot(estimate2,label=\"H=100\")\n",
    "plt.plot(estimate3,label=\"H=250\")\n",
    "plt.xlabel(\"pair number\")\n",
    "plt.ylabel(\"Similarity value\")\n",
    "plt.legend()\n",
    "plt.title(\"Minhash vs Jaccard\")"
   ]
  },
  {
   "cell_type": "markdown",
   "metadata": {},
   "source": [
    "H number of hash functions used- length of signature\n",
    "Conclusion: 100 is enough to get a good estimate, 50 has high variance."
   ]
  },
  {
   "cell_type": "code",
   "execution_count": null,
   "metadata": {},
   "outputs": [],
   "source": []
  }
 ],
 "metadata": {
  "kernelspec": {
   "display_name": "Python 3",
   "language": "python",
   "name": "python3"
  },
  "language_info": {
   "codemirror_mode": {
    "name": "ipython",
    "version": 3
   },
   "file_extension": ".py",
   "mimetype": "text/x-python",
   "name": "python",
   "nbconvert_exporter": "python",
   "pygments_lexer": "ipython3",
   "version": "3.7.9"
  }
 },
 "nbformat": 4,
 "nbformat_minor": 4
}
